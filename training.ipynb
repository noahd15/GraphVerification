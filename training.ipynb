{
 "cells": [
  {
   "cell_type": "code",
   "execution_count": 34,
   "id": "6975ae06-82d8-4b20-a5b7-bb4296451d62",
   "metadata": {},
   "outputs": [],
   "source": [
    "import numpy as np\n",
    "import networkx as nx\n",
    "import matplotlib.pyplot as plt\n",
    "\n",
    "import torch\n",
    "from torch_geometric.utils import from_networkx\n",
    "from ipaddress import IPv4Address\n",
    "import random\n",
    "import logging\n",
    "from torch_geometric.loader import DataLoader\n",
    "import pickle"
   ]
  },
  {
   "cell_type": "markdown",
   "id": "5ffd8be1-62eb-4bbf-bb71-be059a394214",
   "metadata": {},
   "source": [
    "# Train Graph"
   ]
  },
  {
   "cell_type": "markdown",
   "id": "c265799f",
   "metadata": {},
   "source": [
    "### Load Dataset"
   ]
  },
  {
   "cell_type": "code",
   "execution_count": 35,
   "id": "8dd179ed-bc79-4074-8b19-94bacd3a42d4",
   "metadata": {},
   "outputs": [],
   "source": [
    "filename = './Data/dataset.pt'\n",
    "\n",
    "\n",
    "dataset = torch.load(filename, weights_only=False)\n"
   ]
  },
  {
   "cell_type": "code",
   "execution_count": 36,
   "id": "d3f73ac4-5548-4004-b36d-288e220c18a6",
   "metadata": {},
   "outputs": [
    {
     "name": "stdout",
     "output_type": "stream",
     "text": [
      "11757\n",
      "\n",
      "Data(edge_index=[2, 22], feature=[6, 110], num_nodes=6, x=[6, 48], y=1)\n",
      "=============================================================\n",
      "Number of nodes: 6\n",
      "Number of edges: 22\n",
      "Average node degree: 3.67\n",
      "Has isolated nodes: False\n",
      "Has self-loops: False\n",
      "Is undirected: True\n"
     ]
    }
   ],
   "source": [
    "import torch\n",
    "from torch_geometric.datasets import TUDataset\n",
    "from pprint import pprint\n",
    "\n",
    "\n",
    "print(len(dataset))\n",
    "data = dataset[10]  # Get the first graph object.\n",
    "\n",
    "print()\n",
    "print(data)\n",
    "print('=============================================================')\n",
    "\n",
    "\n",
    "\n",
    "# Gather some statistics about the first graph.\n",
    "print(f'Number of nodes: {data.num_nodes}')\n",
    "print(f'Number of edges: {data.num_edges}')\n",
    "print(f'Average node degree: {data.num_edges / data.num_nodes:.2f}')\n",
    "print(f'Has isolated nodes: {data.has_isolated_nodes()}')\n",
    "print(f'Has self-loops: {data.has_self_loops()}')\n",
    "print(f'Is undirected: {data.is_undirected()}')"
   ]
  },
  {
   "cell_type": "code",
   "execution_count": 37,
   "id": "f3cfc9eb-d70a-4c27-8652-f51d6cac0804",
   "metadata": {},
   "outputs": [
    {
     "name": "stdout",
     "output_type": "stream",
     "text": [
      "Number of training graphs: 8229\n",
      "Number of test graphs: 3528\n"
     ]
    }
   ],
   "source": [
    "import random\n",
    "\n",
    "random.shuffle(dataset)\n",
    "\n",
    "# Split the dataset into training and test sets\n",
    "split_ratio = 0.7\n",
    "split_index = int(len(dataset) * split_ratio)\n",
    "train_dataset = dataset[:split_index]\n",
    "test_dataset = dataset[split_index:]\n",
    "\n",
    "\n",
    "\n",
    "\n",
    "print(f'Number of training graphs: {len(train_dataset)}')\n",
    "print(f'Number of test graphs: {len(test_dataset)}')\n",
    "    "
   ]
  },
  {
   "cell_type": "code",
   "execution_count": 38,
   "id": "733f7409-47ab-4dd8-abc5-bf58ba570fcd",
   "metadata": {},
   "outputs": [
    {
     "name": "stdout",
     "output_type": "stream",
     "text": [
      "--------------Train--------------\n",
      "\u001b[1mPercent of low privilege compromised graphs: \u001b[0m0.4369911289342569\n",
      "\u001b[1mPercent of not compromised graphs: \u001b[0m0.5630088710657432\n",
      "--------------Test--------------\n",
      "\u001b[1mPercent of low privilege compromised graphs: \u001b[0m0.4282879818594104\n",
      "\u001b[1mPercent of not compromised graphs: \u001b[0m0.5717120181405896\n"
     ]
    }
   ],
   "source": [
    "ntest = len(test_dataset)\n",
    "testcount = 0\n",
    "testlow = 0\n",
    "testhigh = 0\n",
    "for t in test_dataset:\n",
    "    if t.y.item() == 0:\n",
    "        testcount+=1\n",
    "    if t.y.item() == 1:\n",
    "        testlow+=1\n",
    "    if t.y.item() == 2:\n",
    "        testhigh+=1\n",
    "\n",
    "ntrain = len(train_dataset)\n",
    "traincount = 0\n",
    "trainlow = 0\n",
    "trainhigh = 0\n",
    "for t in train_dataset:\n",
    "    if t.y.item() == 0:\n",
    "        traincount+=1\n",
    "    if t.y.item() == 1:\n",
    "        trainlow+=1\n",
    "    if t.y.item() == 2:\n",
    "        trainhigh+=1\n",
    "\n",
    "print('--------------Train--------------')\n",
    "print(f'\\033[1mPercent of low privilege compromised graphs: \\033[0m{trainlow/ntrain}')\n",
    "print(f'\\033[1mPercent of not compromised graphs: \\033[0m{traincount/ntrain}')\n",
    "\n",
    "\n",
    "\n",
    "print('--------------Test--------------')\n",
    "print(f'\\033[1mPercent of low privilege compromised graphs: \\033[0m{testlow/ntest}')\n",
    "print(f'\\033[1mPercent of not compromised graphs: \\033[0m{testcount/ntest}')"
   ]
  },
  {
   "cell_type": "markdown",
   "id": "f06ee140",
   "metadata": {},
   "source": [
    "### GCN"
   ]
  },
  {
   "cell_type": "code",
   "execution_count": 57,
   "id": "282f09a1-471b-4af4-b740-62a1642ea5ab",
   "metadata": {},
   "outputs": [
    {
     "name": "stdout",
     "output_type": "stream",
     "text": [
      "Using device: cpu\n",
      "Layer: conv1.bias, Weights shape: (32,)\n",
      "Layer: conv1.lin.weight, Weights shape: (32, 48)\n",
      "Layer: conv2.bias, Weights shape: (32,)\n",
      "Layer: conv2.lin.weight, Weights shape: (32, 32)\n",
      "Layer: conv3.bias, Weights shape: (32,)\n",
      "Layer: conv3.lin.weight, Weights shape: (32, 32)\n",
      "Layer: lin.weight, Weights shape: (2, 32)\n",
      "Layer: lin.bias, Weights shape: (2,)\n",
      "Model initialized on cpu\n",
      "Input dimension: 48\n",
      "Number of parameters: 3746\n"
     ]
    }
   ],
   "source": [
    "import torch\n",
    "from torch.nn import Linear\n",
    "import torch.nn.functional as F\n",
    "from torch_geometric.nn import GCNConv, global_mean_pool\n",
    "from torch_geometric.loader import DataLoader\n",
    "\n",
    "#Specify device manually\n",
    "use_gpu = True # Set to False to use CPU\n",
    "device = torch.device('cuda' if use_gpu and torch.cuda.is_available() else 'cpu')\n",
    "\n",
    "print(f\"Using device: {device}\")\n",
    "\n",
    "\n",
    "# DataLoader (ensure `train_dataset` and `test_dataset` are loaded correctly)\n",
    "train_loader = DataLoader(train_dataset, batch_size=64, shuffle=True)\n",
    "test_loader = DataLoader(test_dataset, batch_size=64, shuffle=False)\n",
    "\n",
    "input_dim = len(train_dataset[0].x[0])\n",
    "\n",
    "# Define the GCN model\n",
    "class GCN(torch.nn.Module):\n",
    "    def __init__(self, input_dim=input_dim, hidden_channels=32, invert_output=False):\n",
    "        super(GCN, self).__init__()\n",
    "        torch.manual_seed(12345)\n",
    "        self.conv1 = GCNConv(input_dim, hidden_channels)\n",
    "        self.conv2 = GCNConv(hidden_channels, hidden_channels)\n",
    "        self.conv3 = GCNConv(hidden_channels, hidden_channels)\n",
    "        self.lin = Linear(hidden_channels, 2)\n",
    "        self.sigmoid = torch.nn.Sigmoid()\n",
    "\n",
    "\n",
    "    def forward(self, x, edge_index, batch):\n",
    "        # 1. Obtain node embeddings \n",
    "        x = self.conv1(x, edge_index)\n",
    "        x = x.relu()\n",
    "        x = F.dropout(x, p=0.2, training=self.training)\n",
    "        x = self.conv2(x, edge_index)\n",
    "        x = x.relu()\n",
    "        x = F.dropout(x, p=0.2, training=self.training)\n",
    "        x = self.conv3(x, edge_index)\n",
    "        x = x.relu()\n",
    "        x = F.dropout(x, p=0.2, training=self.training)\n",
    "\n",
    "        # 2. Readout layer\n",
    "        x = global_mean_pool(x, batch)  # [batch_size, hidden_channels]\n",
    "\n",
    "\n",
    "        x = self.lin(x)\n",
    "        x = self.sigmoid(x)\n",
    "\n",
    "        return x\n",
    "\n",
    "model = GCN(hidden_channels=32)\n",
    "\n",
    "# Extract weights from the model\n",
    "weights = {}\n",
    "for name, param in model.named_parameters():\n",
    "    if param.requires_grad:\n",
    "        weights[name] = param.data.cpu().numpy()\n",
    "\n",
    "# Print the extracted weights\n",
    "for layer, weight in weights.items():\n",
    "    print(f\"Layer: {layer}, Weights shape: {weight.shape}\")\n",
    "\n",
    "\n",
    "print(f\"Model initialized on {device}\")\n",
    "print(f\"Input dimension: {input_dim}\")\n",
    "print(f\"Number of parameters: {sum(p.numel() for p in model.parameters())}\")"
   ]
  },
  {
   "cell_type": "code",
   "execution_count": 40,
   "id": "4b50f932-1389-42a8-af60-38bdc410cd79",
   "metadata": {},
   "outputs": [
    {
     "name": "stdout",
     "output_type": "stream",
     "text": [
      "Epoch: 001, Train Loss: 0.6591, Test Loss: 0.5246, Train Acc: 0.7297, Test Acc: 0.8243, Precision: 0.8255, Recall: 0.8138\n",
      "Epoch: 002, Train Loss: 0.5236, Test Loss: 0.4269, Train Acc: 0.8378, Test Acc: 0.8982, Precision: 0.8989, Recall: 0.8928\n",
      "Epoch: 003, Train Loss: 0.4549, Test Loss: 0.3964, Train Acc: 0.8649, Test Acc: 0.9238, Precision: 0.9243, Recall: 0.9197\n",
      "Epoch: 004, Train Loss: 0.4292, Test Loss: 0.3825, Train Acc: 0.9730, Test Acc: 0.9365, Precision: 0.9374, Recall: 0.9329\n",
      "Epoch: 005, Train Loss: 0.4073, Test Loss: 0.3736, Train Acc: 0.9189, Test Acc: 0.9427, Precision: 0.9454, Recall: 0.9380\n",
      "Epoch: 006, Train Loss: 0.3939, Test Loss: 0.3682, Train Acc: 1.0000, Test Acc: 0.9481, Precision: 0.9522, Recall: 0.9427\n",
      "Epoch: 007, Train Loss: 0.3884, Test Loss: 0.3620, Train Acc: 0.8649, Test Acc: 0.9527, Precision: 0.9563, Recall: 0.9477\n",
      "Epoch: 008, Train Loss: 0.3821, Test Loss: 0.3589, Train Acc: 0.8919, Test Acc: 0.9532, Precision: 0.9569, Recall: 0.9483\n",
      "Epoch: 009, Train Loss: 0.3734, Test Loss: 0.3566, Train Acc: 0.9459, Test Acc: 0.9558, Precision: 0.9601, Recall: 0.9505\n",
      "Epoch: 010, Train Loss: 0.3710, Test Loss: 0.3542, Train Acc: 0.9189, Test Acc: 0.9575, Precision: 0.9612, Recall: 0.9527\n"
     ]
    }
   ],
   "source": [
    "from sklearn.metrics import precision_score, recall_score\n",
    "\n",
    "\n",
    "# Initialize the model, optimizer, and loss function\n",
    "model = GCN(hidden_channels=64).to(device)  # Move model to GPU\n",
    "optimizer = torch.optim.Adam(model.parameters(), lr=0.0001)\n",
    "criterion = torch.nn.CrossEntropyLoss()\n",
    "\n",
    "losses = []  # Training losses\n",
    "test_losses = []  # Test losses\n",
    "accs = []  # Test accuracies\n",
    "precisions = []  # Test precisions\n",
    "recalls = []  # Test recalls\n",
    "train_accs = []  # Training accuracies\n",
    "\n",
    "\n",
    "# Define the training loop\n",
    "def train():\n",
    "    model.train()\n",
    "    total_loss = 0\n",
    "\n",
    "    for data in train_loader:  # Iterate in batches over the training dataset.\n",
    "        data = data.to(device)  # Move batch data to GPU\n",
    "        out = model(data.x, data.edge_index, data.batch)  # Perform a single forward pass.\n",
    "        loss = criterion(out, data.y)  # Compute the loss.\n",
    "        total_loss += loss.item()  # Accumulate loss for this epoch.\n",
    "        loss.backward()  # Derive gradients.\n",
    "        optimizer.step()  # Update parameters based on gradients.\n",
    "        optimizer.zero_grad()  # Clear gradients.\n",
    "    \n",
    "    # Print the accuracy for the current batch\n",
    "    pred = out.argmax(dim=1)  # Use the class with highest probability.\n",
    "    correct = int((pred == data.y).sum())  # Check against ground-truth labels.\n",
    "    acc = correct / len(data.y)  # Derive ratio of correct predictions.\n",
    "    train_accs.append(acc)  # Append accuracy to the list.\n",
    "    avg_loss = total_loss / len(train_loader)  # Calculate average loss for this epoch.\n",
    "    losses.append(avg_loss)  # Append the average loss to the list.\n",
    "\n",
    "# Define the testing loop\n",
    "def test(loader):\n",
    "    model.eval()\n",
    "    correct = 0\n",
    "    total_loss = 0\n",
    "    all_preds = []\n",
    "    all_labels = []\n",
    "\n",
    "    with torch.no_grad():  # Disable gradient computation during evaluation.\n",
    "        for data in loader:  # Iterate in batches over the training/test dataset.\n",
    "            data = data.to(device)  # Move batch data to GPU\n",
    "            out = model(data.x, data.edge_index, data.batch)\n",
    "            loss = criterion(out, data.y)  # Compute the loss for the batch.\n",
    "            total_loss += loss.item()  # Accumulate test loss.\n",
    "            pred = out.argmax(dim=1)  # Use the class with highest probability.\n",
    "            correct += int((pred == data.y).sum())  # Check against ground-truth labels.\n",
    "\n",
    "            # Collect predictions and true labels for precision and recall\n",
    "            all_preds.extend(pred.cpu().numpy())\n",
    "            all_labels.extend(data.y.cpu().numpy())\n",
    "\n",
    "    avg_loss = total_loss / len(loader)  # Calculate average test loss.\n",
    "    test_losses.append(avg_loss)  # Append the average test loss to the list.\n",
    "    acc = correct / len(loader.dataset)  # Derive ratio of correct predictions.\n",
    "    accs.append(acc)  # Append accuracy to the list.\n",
    "\n",
    "    # Compute precision and recall\n",
    "    precision = precision_score(all_labels, all_preds, average='macro',zero_division=0)\n",
    "    recall = recall_score(all_labels, all_preds, average='macro', zero_division=0)\n",
    "    precisions.append(precision)\n",
    "    recalls.append(recall)\n",
    "\n",
    "    return acc, avg_loss, precision, recall\n",
    "\n",
    "# Training and testing loop\n",
    "for epoch in range(1, 11):\n",
    "    train()\n",
    "    test_acc, test_loss, precision, recall = test(test_loader)\n",
    "    print(f'Epoch: {epoch:03d}, Train Loss: {losses[-1]:.4f}, Test Loss: {test_loss:.4f}, Train Acc: {train_accs[-1]:.4f}, Test Acc: {test_acc:.4f}, Precision: {precision:.4f}, Recall: {recall:.4f}')\n"
   ]
  },
  {
   "cell_type": "markdown",
   "id": "227f2821-6520-405a-b862-d9d8ea644927",
   "metadata": {},
   "source": [
    "## Graphs"
   ]
  },
  {
   "cell_type": "code",
   "execution_count": 41,
   "id": "a1110016-0917-4e8d-9c07-d6d5f56fde85",
   "metadata": {},
   "outputs": [
    {
     "data": {
      "image/png": "[encoded data removed]",
      "text/plain": [
       "<Figure size 640x480 with 1 Axes>"
      ]
     },
     "metadata": {},
     "output_type": "display_data"
    }
   ],
   "source": [
    "# Plot the loss curve\n",
    "plt.plot(range(1, 11), losses, label='Training Loss')\n",
    "plt.plot(range(1,11), test_losses, label='Test Loss')\n",
    "\n",
    "plt.xlabel('Epoch')\n",
    "plt.legend()\n",
    "plt.ylabel('Loss')\n",
    "plt.title('Loss Curves')\n",
    "plt.show()\n"
   ]
  },
  {
   "cell_type": "code",
   "execution_count": 42,
   "id": "a1bc70de-0dfe-4bc5-b5c1-bfaafba4e445",
   "metadata": {},
   "outputs": [
    {
     "data": {
      "image/png": "[encoded data removed]",
      "text/plain": [
       "<Figure size 640x480 with 1 Axes>"
      ]
     },
     "metadata": {},
     "output_type": "display_data"
    }
   ],
   "source": [
    "plt.plot(range(1, 11), accs, label='Test accuracy')\n",
    "plt.xlabel('Epoch')\n",
    "plt.legend()\n",
    "plt.ylabel('Accuracy')\n",
    "plt.title('Accuracy Curves')\n",
    "\n",
    "plt.show()\n"
   ]
  },
  {
   "cell_type": "code",
   "execution_count": 43,
   "id": "eea127ab-fef7-4ad4-ab82-caa9f996774e",
   "metadata": {},
   "outputs": [
    {
     "data": {
      "image/png": "[encoded data removed]",
      "text/plain": [
       "<Figure size 640x480 with 1 Axes>"
      ]
     },
     "metadata": {},
     "output_type": "display_data"
    }
   ],
   "source": [
    "plt.plot(range(1, 11), precisions, label='Precision')\n",
    "plt.plot(range(1, 11), recalls, label='Recall')\n",
    "plt.xlabel('Epoch')\n",
    "plt.legend()\n",
    "plt.ylabel('Precision/Recall')\n",
    "plt.title('Precision and Recall Curves')\n",
    "plt.show()"
   ]
  },
  {
   "cell_type": "markdown",
   "id": "3f244981",
   "metadata": {},
   "source": [
    "## Python to Matlab"
   ]
  },
  {
   "cell_type": "code",
   "execution_count": 14,
   "id": "f7b116ba",
   "metadata": {},
   "outputs": [],
   "source": [
    "dataset = torch.load('Data/dataset.pt', weights_only=False) "
   ]
  },
  {
   "cell_type": "code",
   "execution_count": 36,
   "id": "fc60d256",
   "metadata": {},
   "outputs": [
    {
     "name": "stdout",
     "output_type": "stream",
     "text": [
      "Conversion to .mat complete!\n"
     ]
    }
   ],
   "source": [
    "import torch\n",
    "import numpy as np\n",
    "from scipy.io import savemat\n",
    "from torch_geometric.utils import to_dense_adj\n",
    "\n",
    "\n",
    "\n",
    "# Prepare plain Python lists for each attribute\n",
    "edge_indices = []\n",
    "features = []\n",
    "labels = []\n",
    "\n",
    "# Iterate through each Data object in the dataset\n",
    "for data in dataset:\n",
    "    # Convert to NumPy arrays if needed\n",
    "    edge_index = data.edge_index.numpy() if isinstance(data.edge_index, torch.Tensor) else data.edge_index\n",
    "    feature = data.x.numpy() if isinstance(data.x, torch.Tensor) else data.x\n",
    "    edge_index_tensor = torch.tensor(edge_index, dtype=torch.long)\n",
    "    adj_matrix = to_dense_adj(edge_index_tensor)[0].numpy()\n",
    "    edge_index = adj_matrix\n",
    "    label = data.y.numpy() if isinstance(data.y, torch.Tensor) else data.y\n",
    "\n",
    "    num_nodes = feature.shape[0]\n",
    "\n",
    "    edge_indices.append(edge_index)\n",
    "    features.append(feature)\n",
    "    labels.append(label)\n",
    "\n",
    "# Manually create object arrays to avoid broadcasting issues\n",
    "edge_indices_obj = np.empty(len(edge_indices), dtype=object)\n",
    "features_obj = np.empty(len(features), dtype=object)\n",
    "labels_obj = np.empty(len(labels), dtype=object)\n",
    "\n",
    "for i in range(len(edge_indices)):\n",
    "    edge_indices_obj[i] = edge_indices[i]\n",
    "    features_obj[i] = features[i]\n",
    "    labels_obj[i] = labels[i]\n",
    "\n",
    "# Build the dictionary for saving to .mat\n",
    "data_dict = {\n",
    "    'edge_indices': edge_indices_obj,  # Now an object array (MATLAB cell array)\n",
    "    'features': features_obj,          # Object array of feature matrices\n",
    "    'labels': labels_obj               # Object array of labels\n",
    "}\n",
    "\n",
    "# Save to .mat file\n",
    "savemat('converted_dataset.mat', data_dict)\n",
    "print(\"Conversion to .mat complete!\")\n"
   ]
  },
  {
   "cell_type": "markdown",
   "id": "807a3d03",
   "metadata": {},
   "source": [
    "# Topological Pertubations"
   ]
  },
  {
   "cell_type": "code",
   "execution_count": 44,
   "id": "2aaa974a",
   "metadata": {},
   "outputs": [],
   "source": [
    "import torch\n",
    "import numpy as np\n",
    "import os.path as osp\n",
    "import tempfile\n",
    "from torch_geometric.datasets import TUDataset\n",
    "from torch_geometric.data import DataLoader\n",
    "from torch_geometric.data.makedirs import makedirs\n",
    "# from robograph.model.gnn import GCNConv, train, eval\n",
    "from tqdm.notebook import tqdm\n",
    "from robograph.utils import process_data, cal_logits\n",
    "\n",
    "from robograph.attack.admm import admm_solver_doubleL\n",
    "from robograph.attack.cvx_env_solver import cvx_env_solver\n",
    "from robograph.attack.dual import dual_solver_doubleL\n",
    "from robograph.attack.greedy_attack import Greedy_Attack\n",
    "from robograph.attack.utils import calculate_Fc\n",
    "from robograph.attack.convex_relaxation import ConvexRelaxation"
   ]
  },
  {
   "cell_type": "code",
   "execution_count": 71,
   "id": "593beafa",
   "metadata": {},
   "outputs": [
    {
     "data": {
      "application/vnd.jupyter.widget-view+json": {
       "model_id": "68621a440d2749458cd71ebf985924e7",
       "version_major": 2,
       "version_minor": 0
      },
      "text/plain": [
       "across graphs:   0%|          | 0/3528 [00:00<?, ?it/s]"
      ]
     },
     "metadata": {},
     "output_type": "display_data"
    },
    {
     "ename": "AxisError",
     "evalue": "axis 1 is out of bounds for array of dimension 0",
     "output_type": "error",
     "traceback": [
      "\u001b[1;31m---------------------------------------------------------------------------\u001b[0m",
      "\u001b[1;31mAxisError\u001b[0m                                 Traceback (most recent call last)",
      "Cell \u001b[1;32mIn[71], line 39\u001b[0m\n\u001b[0;32m     37\u001b[0m \u001b[38;5;28;01mfor\u001b[39;00m data \u001b[38;5;129;01min\u001b[39;00m tqdm(test_dataset, desc\u001b[38;5;241m=\u001b[39m\u001b[38;5;124m'\u001b[39m\u001b[38;5;124macross graphs\u001b[39m\u001b[38;5;124m'\u001b[39m):\n\u001b[0;32m     38\u001b[0m     A, X, y \u001b[38;5;241m=\u001b[39m process_data(data)\n\u001b[1;32m---> 39\u001b[0m     deg \u001b[38;5;241m=\u001b[39m \u001b[43mA\u001b[49m\u001b[38;5;241;43m.\u001b[39;49m\u001b[43msum\u001b[49m\u001b[43m(\u001b[49m\u001b[38;5;241;43m1\u001b[39;49m\u001b[43m)\u001b[49m\n\u001b[0;32m     40\u001b[0m     n_nodes \u001b[38;5;241m=\u001b[39m A\u001b[38;5;241m.\u001b[39mshape[\u001b[38;5;241m0\u001b[39m]\n\u001b[0;32m     41\u001b[0m     n_edges \u001b[38;5;241m=\u001b[39m np\u001b[38;5;241m.\u001b[39mcount_nonzero(A) \u001b[38;5;241m/\u001b[39m\u001b[38;5;241m/\u001b[39m \u001b[38;5;241m2\u001b[39m\n",
      "File \u001b[1;32mc:\\Users\\Noah\\miniconda3\\envs\\AV\\lib\\site-packages\\numpy\\core\\_methods.py:49\u001b[0m, in \u001b[0;36m_sum\u001b[1;34m(a, axis, dtype, out, keepdims, initial, where)\u001b[0m\n\u001b[0;32m     47\u001b[0m \u001b[38;5;28;01mdef\u001b[39;00m \u001b[38;5;21m_sum\u001b[39m(a, axis\u001b[38;5;241m=\u001b[39m\u001b[38;5;28;01mNone\u001b[39;00m, dtype\u001b[38;5;241m=\u001b[39m\u001b[38;5;28;01mNone\u001b[39;00m, out\u001b[38;5;241m=\u001b[39m\u001b[38;5;28;01mNone\u001b[39;00m, keepdims\u001b[38;5;241m=\u001b[39m\u001b[38;5;28;01mFalse\u001b[39;00m,\n\u001b[0;32m     48\u001b[0m          initial\u001b[38;5;241m=\u001b[39m_NoValue, where\u001b[38;5;241m=\u001b[39m\u001b[38;5;28;01mTrue\u001b[39;00m):\n\u001b[1;32m---> 49\u001b[0m     \u001b[38;5;28;01mreturn\u001b[39;00m \u001b[43mumr_sum\u001b[49m\u001b[43m(\u001b[49m\u001b[43ma\u001b[49m\u001b[43m,\u001b[49m\u001b[43m \u001b[49m\u001b[43maxis\u001b[49m\u001b[43m,\u001b[49m\u001b[43m \u001b[49m\u001b[43mdtype\u001b[49m\u001b[43m,\u001b[49m\u001b[43m \u001b[49m\u001b[43mout\u001b[49m\u001b[43m,\u001b[49m\u001b[43m \u001b[49m\u001b[43mkeepdims\u001b[49m\u001b[43m,\u001b[49m\u001b[43m \u001b[49m\u001b[43minitial\u001b[49m\u001b[43m,\u001b[49m\u001b[43m \u001b[49m\u001b[43mwhere\u001b[49m\u001b[43m)\u001b[49m\n",
      "\u001b[1;31mAxisError\u001b[0m: axis 1 is out of bounds for array of dimension 0"
     ]
    }
   ],
   "source": [
    "torch.manual_seed(0)\n",
    "np.random.seed(0)\n",
    "\n",
    "# Move model to evaluation mode\n",
    "model.eval()\n",
    "\n",
    "\n",
    "\n",
    "# Ensure model is on the correct device\n",
    "model = model.to(device)\n",
    "\n",
    "\n",
    "W = np.random.randn(48, 32)\n",
    "U = np.random.randn(48, 32)\n",
    "\n",
    "\n",
    "# counter of certifiably robust and vulnerable \n",
    "robust_dual = 0\n",
    "robust_cvx_DL = 0\n",
    "robust_cvx_SL = 0\n",
    "vul_admm_g = 0\n",
    "vul_greedy = 0\n",
    "\n",
    "# counter of correct classification\n",
    "correct = 0\n",
    "\n",
    "# attacker settings\n",
    "strength = 3\n",
    "delta_g = 10\n",
    "\n",
    "# setting for solvers\n",
    "dual_params = dict(iter=100, verbose=0, nonsmooth_init='random')\n",
    "cvx_params = dict(iter=400, lr=0.3, verbose=0, constr='1+2+3', \n",
    "                 activation='relu', algo='swapping', nonsmooth_init='subgrad')\n",
    "admm_params = dict(iter=200, mu=1)\n",
    "\n",
    "for data in tqdm(test_dataset, desc='across graphs'):\n",
    "    A, X, y = process_data(data)\n",
    "    deg = A.sum(1)\n",
    "    n_nodes = A.shape[0]\n",
    "    n_edges = np.count_nonzero(A) // 2\n",
    "    \n",
    "    delta_l = np.minimum(np.maximum(deg - np.max(deg) + strength, 0), n_nodes - 1).astype(int)\n",
    "    # delta_g\n",
    "    \n",
    "    logits = cal_logits(A, X@W, U, act='relu')\n",
    "    c_pred = logits.argmax()\n",
    "    \n",
    "    if c_pred != y:\n",
    "        continue\n",
    "    correct += 1\n",
    "    fc_vals_orig = [0] * k\n",
    "    fc_vals_dual = [0] * k\n",
    "    fc_vals_cvx_DL = [0] * k\n",
    "    fc_vals_cvx_SL = [0] * k\n",
    "    fc_vals_admm = [0] * k\n",
    "    fc_vals_admm_g = [0] * k\n",
    "    fc_vals_greedy = [0] * k\n",
    "    \n",
    "    \n",
    "    for c in tqdm(range(k), desc='across labels', leave=False):\n",
    "        if c == y:\n",
    "            continue\n",
    "        u = U[y] - U[c]\n",
    "        XW = X@W\n",
    "        \n",
    "        # fc_val_orig\n",
    "        fc_vals_orig[c] = calculate_Fc(A, XW, u / n_nodes, activation='relu')\n",
    "        \n",
    "        # fc_val_dual\n",
    "        cvx_relax = ConvexRelaxation(A, XW, u / n_nodes, delta_l, delta_g, 'relu', 'envelop', 'doubleL')\n",
    "        dual_sol = dual_solver_doubleL(A, cvx_relax.Q, cvx_relax.p, \n",
    "                                       delta_l=delta_l, delta_g=delta_g, **dual_params)\n",
    "        fc_vals_dual[c] = dual_sol['opt_f']\n",
    "        \n",
    "        # fc_val_cvx_DL\n",
    "        cvx_env_params = dict(iter=100, lr=1, verbose=0, constr='1+2+3', nonsmooth_init='subgrad',\n",
    "                                  activation='relu', algo='swapping', relu_bound='doubleL')\n",
    "        cvx_env_doubleL_sol = cvx_env_solver(A, XW, u / n_nodes, delta_l, delta_g, **cvx_env_params)\n",
    "        fc_vals_cvx_DL[c] = cvx_env_doubleL_sol['opt_f']\n",
    "        \n",
    "        # fc_val_cvx_SL\n",
    "        cvx_env_params = dict(iter=100, lr=1, verbose=0, constr='1+2+3', nonsmooth_init='subgrad',\n",
    "                                  activation='relu', algo='swapping', relu_bound='singleL')\n",
    "        cvx_env_singleL_sol = cvx_env_solver(A, XW, u / n_nodes, delta_l, delta_g, **cvx_env_params)\n",
    "        fc_vals_cvx_SL[c] = cvx_env_singleL_sol['opt_f']\n",
    "        \n",
    "        # fc_val_admm\n",
    "        Q, p = cvx_relax.doubleL_ub_coefficient()\n",
    "        admm_params['init_B'] = dual_sol['opt_A'].copy()\n",
    "        admm_sol = admm_solver_doubleL(A, Q, p, delta_l, delta_g, **admm_params)\n",
    "        fc_vals_admm[c] = admm_sol['opt_f']\n",
    "        \n",
    "        # fc_val_admm_g: admm + greedy\n",
    "        admm_g_attack = Greedy_Attack(A, XW, u / n_nodes, delta_l=delta_l, delta_g=delta_g, activation='relu')\n",
    "        if np.array_equal(admm_sol['opt_A'], admm_sol['opt_A'].T):\n",
    "            admm_A = admm_sol['opt_A']\n",
    "        else:\n",
    "            admm_A = np.minimum(admm_sol['opt_A'], admm_sol['opt_A'].T)\n",
    "        admm_g_sol = admm_g_attack.attack(admm_A)  # init from A\n",
    "        fc_vals_admm_g[c] = admm_g_sol['opt_f']\n",
    "        \n",
    "        # fc_val_greedy\n",
    "        attack = Greedy_Attack(A, XW, u / n_nodes, delta_l=delta_l, delta_g=delta_g, activation='relu')\n",
    "        greedy_sol = attack.attack(A)  # init from A\n",
    "        fc_vals_greedy[c] = greedy_sol['opt_f']\n",
    "    \n",
    "    if np.min(fc_vals_dual) >= 0:\n",
    "        robust_dual += 1\n",
    "    if np.min(fc_vals_cvx_DL) >= 0:\n",
    "        robust_cvx_DL += 1\n",
    "    if np.min(fc_vals_cvx_SL) >= 0:\n",
    "        robust_cvx_SL += 1\n",
    "    if np.min(fc_vals_admm_g) < 0:\n",
    "        vul_admm_g += 1\n",
    "    if np.min(fc_vals_greedy) < 0:\n",
    "        vul_greedy += 1"
   ]
  },
  {
   "cell_type": "code",
   "execution_count": null,
   "id": "4537d722",
   "metadata": {},
   "outputs": [],
   "source": []
  }
 ],
 "metadata": {
  "kernelspec": {
   "display_name": "AV",
   "language": "python",
   "name": "python3"
  },
  "language_info": {
   "codemirror_mode": {
    "name": "ipython",
    "version": 3
   },
   "file_extension": ".py",
   "mimetype": "text/x-python",
   "name": "python",
   "nbconvert_exporter": "python",
   "pygments_lexer": "ipython3",
   "version": "3.10.16"
  }
 },
 "nbformat": 4,
 "nbformat_minor": 5
}
