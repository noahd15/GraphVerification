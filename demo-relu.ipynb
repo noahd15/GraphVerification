{
 "cells": [
  {
   "cell_type": "markdown",
   "metadata": {},
   "source": [
    "# RoboGraph\n",
    "This is the demo for the submission of paper\n",
    ">  __Certified Robustness of Graph Convolution Networks for Graph Classification under Topological Attacks__\n",
    "\n",
    "Before running the demo, please make sure all the required packages are installed.\n",
    "\n",
    "A detailed instruction is provided in [README.md](./README.md)."
   ]
  },
  {
   "cell_type": "code",
   "execution_count": 12,
   "metadata": {},
   "outputs": [],
   "source": [
    "import torch\n",
    "import numpy as np\n",
    "import os.path as osp\n",
    "import random\n",
    "import tempfile\n",
    "from torch_geometric.datasets import TUDataset\n",
    "from torch_geometric.data import DataLoader\n",
    "from torch_geometric.data.makedirs import makedirs\n",
    "from robograph.model.gnn import GC_NET, train, eval\n",
    "from tqdm.notebook import tqdm\n",
    "from robograph.utils import process_data, cal_logits\n",
    "\n",
    "from robograph.attack.admm import admm_solver_doubleL\n",
    "from robograph.attack.cvx_env_solver import cvx_env_solver\n",
    "from robograph.attack.dual import dual_solver_doubleL\n",
    "from robograph.attack.greedy_attack import Greedy_Attack\n",
    "from robograph.attack.utils import calculate_Fc\n",
    "from robograph.attack.convex_relaxation import ConvexRelaxation"
   ]
  },
  {
   "cell_type": "markdown",
   "metadata": {},
   "source": [
    "## Graph classification with _ReLU_ activation function"
   ]
  },
  {
   "cell_type": "code",
   "execution_count": 24,
   "metadata": {},
   "outputs": [],
   "source": [
    "torch.manual_seed(0)\n",
    "np.random.seed(0)\n",
    "\n",
    "# 2. Load original TUDataset\n",
    "ds_name = 'ENZYMES'\n",
    "path = osp.join(tempfile.gettempdir(), 'data', ds_name)\n",
    "dataset = TUDataset(path, name=ds_name, use_node_attr=True)\n",
    "\n",
    "# 3. Store dataset-wide num_features / num_classes\n",
    "n_features = dataset.num_features\n",
    "n_classes = dataset.num_classes\n",
    "\n",
    "# 4. Filter out large graphs (>31 nodes)\n",
    "max_nodes = 31\n",
    "filtered_data_list = []\n",
    "for data in dataset:\n",
    "    if data.num_nodes <= max_nodes:\n",
    "        filtered_data_list.append(data)\n",
    "\n",
    "# 5. Shuffle & split the filtered list\n",
    "random.shuffle(filtered_data_list)\n",
    "train_size = len(filtered_data_list) // 10 * 3  # 30%\n",
    "val_size   = len(filtered_data_list) // 10 * 2  # 20%\n",
    "train_dataset = filtered_data_list[:train_size]\n",
    "val_dataset   = filtered_data_list[train_size: train_size + val_size]\n",
    "test_dataset  = filtered_data_list[train_size + val_size:]\n",
    "\n",
    "# 6. Create DataLoaders\n",
    "train_loader = DataLoader(train_dataset, batch_size=20)\n",
    "val_loader   = DataLoader(val_dataset,   batch_size=20)\n",
    "test_loader  = DataLoader(test_dataset,  batch_size=20)\n",
    "\n",
    "# 7. Pick device\n",
    "device = torch.device('cuda' if torch.cuda.is_available() else 'cpu')\n",
    "\n",
    "# 8. Create the model using the stored n_features / n_classes\n",
    "model = GC_NET(\n",
    "    hidden=64,\n",
    "    n_features=n_features,\n",
    "    n_classes=n_classes,\n",
    "    act='relu',\n",
    "    pool='avg',\n",
    "    dropout=0.\n",
    ").to(device)\n",
    "\n",
    "# torch.manual_seed(0)\n",
    "# np.random.seed(0)\n",
    "\n",
    "# # prepare dataset\n",
    "# ds_name = 'ENZYMES'\n",
    "# path = osp.join(tempfile.gettempdir(), 'data', ds_name)\n",
    "# save_path = osp.join(tempfile.gettempdir(), 'data', ds_name, 'saved')\n",
    "# if not osp.isdir(save_path):\n",
    "#     makedirs(save_path)\n",
    "# dataset = TUDataset(path, name=ds_name, use_node_attr=True)\n",
    "# dataset = dataset.shuffle()\n",
    "# train_size = len(dataset) // 10 * 3\n",
    "# val_size = len(dataset) // 10 * 2\n",
    "# train_dataset = dataset[:train_size]\n",
    "# val_dataset = dataset[train_size: train_size + val_size]\n",
    "# test_dataset = dataset[train_size + val_size:]\n",
    "\n",
    "# # prepare dataloader\n",
    "# train_loader = DataLoader(train_dataset, batch_size=20)\n",
    "# val_loader = DataLoader(val_dataset, batch_size=20)\n",
    "# test_loader = DataLoader(test_dataset, batch_size=20)\n",
    "\n",
    "# device = torch.device('cuda' if torch.cuda.is_available() else 'cpu')\n",
    "\n",
    "# # create model\n",
    "# model = GC_NET(hidden=64,\n",
    "#               n_features=dataset.num_features,\n",
    "#               n_classes=dataset.num_classes,\n",
    "#               act='relu',\n",
    "#               pool='avg',\n",
    "#               dropout=0.).to(device)"
   ]
  },
  {
   "cell_type": "markdown",
   "metadata": {},
   "source": [
    "## Training a vanilla model"
   ]
  },
  {
   "cell_type": "code",
   "execution_count": 25,
   "metadata": {},
   "outputs": [
    {
     "data": {
      "application/vnd.jupyter.widget-view+json": {
       "model_id": "999a24b13edd4c5292c23dd675def63c",
       "version_major": 2,
       "version_minor": 0
      },
      "text/plain": [
       "  0%|          | 0/200 [00:00<?, ?it/s]"
      ]
     },
     "metadata": {},
     "output_type": "display_data"
    },
    {
     "name": "stdout",
     "output_type": "stream",
     "text": [
      "epoch 001 train_loss 3.8261 train_acc 0.2167 val_acc 0.2083 \n",
      "epoch 002 train_loss 2.8495 train_acc 0.2389 val_acc 0.2000 \n",
      "epoch 003 train_loss 2.0438 train_acc 0.2500 val_acc 0.2167 \n",
      "epoch 004 train_loss 1.8967 train_acc 0.1889 val_acc 0.2167 \n",
      "epoch 005 train_loss 1.8471 train_acc 0.2500 val_acc 0.2250 \n",
      "epoch 006 train_loss 1.8686 train_acc 0.1889 val_acc 0.1917 \n",
      "epoch 007 train_loss 1.8205 train_acc 0.2556 val_acc 0.3000 \n",
      "epoch 008 train_loss 1.8513 train_acc 0.1833 val_acc 0.2417 \n",
      "epoch 009 train_loss 1.8041 train_acc 0.2667 val_acc 0.3000 \n",
      "epoch 010 train_loss 1.8387 train_acc 0.2167 val_acc 0.2333 \n",
      "epoch 011 train_loss 1.7913 train_acc 0.2722 val_acc 0.2833 \n",
      "epoch 012 train_loss 1.8251 train_acc 0.2444 val_acc 0.2417 \n",
      "epoch 013 train_loss 1.7802 train_acc 0.2889 val_acc 0.2833 \n",
      "epoch 014 train_loss 1.8148 train_acc 0.2500 val_acc 0.2250 \n",
      "epoch 015 train_loss 1.7713 train_acc 0.2833 val_acc 0.2917 \n",
      "epoch 016 train_loss 1.8055 train_acc 0.2722 val_acc 0.2333 \n",
      "epoch 017 train_loss 1.7631 train_acc 0.2833 val_acc 0.2917 \n",
      "epoch 018 train_loss 1.7969 train_acc 0.2556 val_acc 0.2333 \n",
      "epoch 019 train_loss 1.7550 train_acc 0.2833 val_acc 0.2833 \n",
      "epoch 020 train_loss 1.7872 train_acc 0.2556 val_acc 0.2417 \n",
      "epoch 021 train_loss 1.7469 train_acc 0.2889 val_acc 0.2667 \n",
      "epoch 022 train_loss 1.7806 train_acc 0.2556 val_acc 0.2250 \n",
      "epoch 023 train_loss 1.7416 train_acc 0.2944 val_acc 0.2583 \n",
      "epoch 024 train_loss 1.7752 train_acc 0.2667 val_acc 0.2000 \n",
      "epoch 025 train_loss 1.7368 train_acc 0.2889 val_acc 0.2583 \n",
      "epoch 026 train_loss 1.7699 train_acc 0.2722 val_acc 0.2250 \n",
      "epoch 027 train_loss 1.7316 train_acc 0.2778 val_acc 0.2583 \n",
      "epoch 028 train_loss 1.7658 train_acc 0.2611 val_acc 0.2167 \n",
      "epoch 029 train_loss 1.7271 train_acc 0.2889 val_acc 0.2500 \n",
      "epoch 030 train_loss 1.7606 train_acc 0.2667 val_acc 0.2000 \n",
      "epoch 031 train_loss 1.7231 train_acc 0.2889 val_acc 0.2500 \n",
      "epoch 032 train_loss 1.7558 train_acc 0.2556 val_acc 0.1917 \n",
      "epoch 033 train_loss 1.7186 train_acc 0.2944 val_acc 0.2583 \n",
      "epoch 034 train_loss 1.7512 train_acc 0.2667 val_acc 0.2083 \n",
      "epoch 035 train_loss 1.7138 train_acc 0.2944 val_acc 0.2583 \n",
      "epoch 036 train_loss 1.7466 train_acc 0.2722 val_acc 0.2167 \n",
      "epoch 037 train_loss 1.7104 train_acc 0.2889 val_acc 0.2417 \n",
      "epoch 038 train_loss 1.7420 train_acc 0.2889 val_acc 0.2083 \n",
      "epoch 039 train_loss 1.7068 train_acc 0.2944 val_acc 0.2417 \n",
      "epoch 040 train_loss 1.7374 train_acc 0.2944 val_acc 0.2083 \n",
      "epoch 041 train_loss 1.7034 train_acc 0.2944 val_acc 0.2500 \n",
      "epoch 042 train_loss 1.7323 train_acc 0.3000 val_acc 0.2167 \n",
      "epoch 043 train_loss 1.6999 train_acc 0.2944 val_acc 0.2500 \n",
      "epoch 044 train_loss 1.7285 train_acc 0.3000 val_acc 0.2083 \n",
      "epoch 045 train_loss 1.6972 train_acc 0.3000 val_acc 0.2417 \n",
      "epoch 046 train_loss 1.7236 train_acc 0.3056 val_acc 0.2083 \n",
      "epoch 047 train_loss 1.6938 train_acc 0.2944 val_acc 0.2417 \n",
      "epoch 048 train_loss 1.7200 train_acc 0.3056 val_acc 0.2083 \n",
      "epoch 049 train_loss 1.6909 train_acc 0.2889 val_acc 0.2250 \n",
      "epoch 050 train_loss 1.7162 train_acc 0.3056 val_acc 0.2167 \n",
      "epoch 051 train_loss 1.6890 train_acc 0.2889 val_acc 0.2167 \n",
      "epoch 052 train_loss 1.7125 train_acc 0.3056 val_acc 0.2167 \n",
      "epoch 053 train_loss 1.6863 train_acc 0.2833 val_acc 0.2250 \n",
      "epoch 054 train_loss 1.7093 train_acc 0.3111 val_acc 0.2083 \n",
      "epoch 055 train_loss 1.6840 train_acc 0.2833 val_acc 0.2250 \n",
      "epoch 056 train_loss 1.7055 train_acc 0.3111 val_acc 0.2083 \n",
      "epoch 057 train_loss 1.6819 train_acc 0.2944 val_acc 0.2250 \n",
      "epoch 058 train_loss 1.7021 train_acc 0.3111 val_acc 0.2083 \n",
      "epoch 059 train_loss 1.6803 train_acc 0.3000 val_acc 0.2250 \n",
      "epoch 060 train_loss 1.6979 train_acc 0.3167 val_acc 0.2083 \n",
      "epoch 061 train_loss 1.6784 train_acc 0.3111 val_acc 0.2250 \n",
      "epoch 062 train_loss 1.6939 train_acc 0.3222 val_acc 0.2083 \n",
      "epoch 063 train_loss 1.6762 train_acc 0.3111 val_acc 0.2167 \n",
      "epoch 064 train_loss 1.6900 train_acc 0.3333 val_acc 0.2083 \n",
      "epoch 065 train_loss 1.6748 train_acc 0.3333 val_acc 0.2333 \n",
      "epoch 066 train_loss 1.6855 train_acc 0.3333 val_acc 0.2083 \n",
      "epoch 067 train_loss 1.6717 train_acc 0.3389 val_acc 0.2500 \n",
      "epoch 068 train_loss 1.6822 train_acc 0.3278 val_acc 0.2167 \n",
      "epoch 069 train_loss 1.6701 train_acc 0.3444 val_acc 0.2333 \n",
      "epoch 070 train_loss 1.6788 train_acc 0.3278 val_acc 0.2250 \n",
      "epoch 071 train_loss 1.6687 train_acc 0.3333 val_acc 0.2333 \n",
      "epoch 072 train_loss 1.6747 train_acc 0.3333 val_acc 0.2333 \n",
      "epoch 073 train_loss 1.6664 train_acc 0.3500 val_acc 0.2500 \n",
      "epoch 074 train_loss 1.6718 train_acc 0.3389 val_acc 0.2333 \n",
      "epoch 075 train_loss 1.6645 train_acc 0.3500 val_acc 0.2583 \n",
      "epoch 076 train_loss 1.6695 train_acc 0.3500 val_acc 0.2333 \n",
      "epoch 077 train_loss 1.6640 train_acc 0.3389 val_acc 0.2333 \n",
      "epoch 078 train_loss 1.6655 train_acc 0.3500 val_acc 0.2333 \n",
      "epoch 079 train_loss 1.6607 train_acc 0.3500 val_acc 0.2500 \n",
      "epoch 080 train_loss 1.6631 train_acc 0.3611 val_acc 0.2333 \n",
      "epoch 081 train_loss 1.6611 train_acc 0.3556 val_acc 0.2333 \n",
      "epoch 082 train_loss 1.6598 train_acc 0.3556 val_acc 0.2333 \n",
      "epoch 083 train_loss 1.6580 train_acc 0.3556 val_acc 0.2333 \n",
      "epoch 084 train_loss 1.6579 train_acc 0.3611 val_acc 0.2333 \n",
      "epoch 085 train_loss 1.6560 train_acc 0.3667 val_acc 0.2500 \n",
      "epoch 086 train_loss 1.6554 train_acc 0.3722 val_acc 0.2500 \n",
      "epoch 087 train_loss 1.6539 train_acc 0.3778 val_acc 0.2583 \n",
      "epoch 088 train_loss 1.6531 train_acc 0.3833 val_acc 0.2667 \n",
      "epoch 089 train_loss 1.6523 train_acc 0.3778 val_acc 0.2583 \n",
      "epoch 090 train_loss 1.6512 train_acc 0.3889 val_acc 0.2750 \n",
      "epoch 091 train_loss 1.6501 train_acc 0.3889 val_acc 0.2667 \n",
      "epoch 092 train_loss 1.6492 train_acc 0.3889 val_acc 0.2667 \n",
      "epoch 093 train_loss 1.6481 train_acc 0.4056 val_acc 0.2750 \n",
      "epoch 094 train_loss 1.6472 train_acc 0.4000 val_acc 0.2750 \n",
      "epoch 095 train_loss 1.6461 train_acc 0.4000 val_acc 0.2750 \n",
      "epoch 096 train_loss 1.6447 train_acc 0.4000 val_acc 0.2750 \n",
      "epoch 097 train_loss 1.6437 train_acc 0.4000 val_acc 0.2750 \n",
      "epoch 098 train_loss 1.6429 train_acc 0.4000 val_acc 0.2750 \n",
      "epoch 099 train_loss 1.6419 train_acc 0.4000 val_acc 0.2750 \n",
      "epoch 100 train_loss 1.6400 train_acc 0.4056 val_acc 0.2750 \n",
      "epoch 101 train_loss 1.6395 train_acc 0.4056 val_acc 0.2750 \n",
      "epoch 102 train_loss 1.6380 train_acc 0.4056 val_acc 0.2833 \n",
      "epoch 103 train_loss 1.6367 train_acc 0.4056 val_acc 0.2750 \n",
      "epoch 104 train_loss 1.6356 train_acc 0.4056 val_acc 0.2833 \n",
      "epoch 105 train_loss 1.6352 train_acc 0.4056 val_acc 0.2833 \n",
      "epoch 106 train_loss 1.6334 train_acc 0.4056 val_acc 0.2750 \n",
      "epoch 107 train_loss 1.6333 train_acc 0.4056 val_acc 0.2667 \n",
      "epoch 108 train_loss 1.6314 train_acc 0.4056 val_acc 0.2750 \n",
      "epoch 109 train_loss 1.6319 train_acc 0.4056 val_acc 0.2583 \n",
      "epoch 110 train_loss 1.6319 train_acc 0.4056 val_acc 0.2667 \n",
      "epoch 111 train_loss 1.6295 train_acc 0.4056 val_acc 0.2833 \n",
      "epoch 112 train_loss 1.6296 train_acc 0.4167 val_acc 0.2750 \n",
      "epoch 113 train_loss 1.6277 train_acc 0.4111 val_acc 0.2583 \n",
      "epoch 114 train_loss 1.6286 train_acc 0.4167 val_acc 0.2750 \n",
      "epoch 115 train_loss 1.6266 train_acc 0.4222 val_acc 0.2667 \n",
      "epoch 116 train_loss 1.6264 train_acc 0.4222 val_acc 0.2667 \n",
      "epoch 117 train_loss 1.6260 train_acc 0.4111 val_acc 0.2750 \n",
      "epoch 118 train_loss 1.6251 train_acc 0.4222 val_acc 0.2750 \n",
      "epoch 119 train_loss 1.6243 train_acc 0.4167 val_acc 0.2750 \n",
      "epoch 120 train_loss 1.6232 train_acc 0.4222 val_acc 0.2750 \n",
      "epoch 121 train_loss 1.6222 train_acc 0.4333 val_acc 0.2917 \n",
      "epoch 122 train_loss 1.6204 train_acc 0.4222 val_acc 0.2750 \n",
      "epoch 123 train_loss 1.6201 train_acc 0.4167 val_acc 0.2750 \n",
      "epoch 124 train_loss 1.6170 train_acc 0.4278 val_acc 0.3083 \n",
      "epoch 125 train_loss 1.6170 train_acc 0.4278 val_acc 0.3000 \n",
      "epoch 126 train_loss 1.6160 train_acc 0.4222 val_acc 0.3000 \n",
      "epoch 127 train_loss 1.6143 train_acc 0.4222 val_acc 0.3000 \n",
      "epoch 128 train_loss 1.6135 train_acc 0.4222 val_acc 0.3083 \n",
      "epoch 129 train_loss 1.6132 train_acc 0.4222 val_acc 0.3000 \n",
      "epoch 130 train_loss 1.6115 train_acc 0.4278 val_acc 0.3083 \n",
      "epoch 131 train_loss 1.6115 train_acc 0.4222 val_acc 0.3083 \n",
      "epoch 132 train_loss 1.6105 train_acc 0.4222 val_acc 0.3000 \n",
      "epoch 133 train_loss 1.6097 train_acc 0.4222 val_acc 0.3250 \n",
      "epoch 134 train_loss 1.6089 train_acc 0.4222 val_acc 0.3250 \n",
      "epoch 135 train_loss 1.6091 train_acc 0.4222 val_acc 0.3250 \n",
      "epoch 136 train_loss 1.6075 train_acc 0.4278 val_acc 0.3250 \n",
      "epoch 137 train_loss 1.6082 train_acc 0.4222 val_acc 0.3250 \n",
      "epoch 138 train_loss 1.6064 train_acc 0.4278 val_acc 0.3167 \n",
      "epoch 139 train_loss 1.6072 train_acc 0.4278 val_acc 0.3333 \n",
      "epoch 140 train_loss 1.6055 train_acc 0.4278 val_acc 0.3167 \n",
      "epoch 141 train_loss 1.6053 train_acc 0.4333 val_acc 0.3333 \n",
      "epoch 142 train_loss 1.6045 train_acc 0.4333 val_acc 0.3250 \n",
      "epoch 143 train_loss 1.6039 train_acc 0.4333 val_acc 0.3250 \n",
      "epoch 144 train_loss 1.6029 train_acc 0.4333 val_acc 0.3250 \n",
      "epoch 145 train_loss 1.6026 train_acc 0.4389 val_acc 0.3250 \n",
      "epoch 146 train_loss 1.6024 train_acc 0.4333 val_acc 0.3250 \n",
      "epoch 147 train_loss 1.6011 train_acc 0.4333 val_acc 0.3250 \n",
      "epoch 148 train_loss 1.6013 train_acc 0.4444 val_acc 0.3250 \n",
      "epoch 149 train_loss 1.5997 train_acc 0.4389 val_acc 0.3167 \n",
      "epoch 150 train_loss 1.6004 train_acc 0.4444 val_acc 0.3250 \n",
      "epoch 151 train_loss 1.5989 train_acc 0.4389 val_acc 0.3167 \n",
      "epoch 152 train_loss 1.5994 train_acc 0.4500 val_acc 0.3167 \n",
      "epoch 153 train_loss 1.5984 train_acc 0.4611 val_acc 0.3167 \n",
      "epoch 154 train_loss 1.5988 train_acc 0.4500 val_acc 0.3167 \n",
      "epoch 155 train_loss 1.5983 train_acc 0.4611 val_acc 0.3167 \n",
      "epoch 156 train_loss 1.5966 train_acc 0.4500 val_acc 0.3167 \n",
      "epoch 157 train_loss 1.5971 train_acc 0.4500 val_acc 0.3250 \n",
      "epoch 158 train_loss 1.5967 train_acc 0.4556 val_acc 0.3333 \n",
      "epoch 159 train_loss 1.5961 train_acc 0.4500 val_acc 0.3333 \n",
      "epoch 160 train_loss 1.5963 train_acc 0.4500 val_acc 0.3333 \n",
      "epoch 161 train_loss 1.5958 train_acc 0.4500 val_acc 0.3333 \n",
      "epoch 162 train_loss 1.5949 train_acc 0.4500 val_acc 0.3333 \n",
      "epoch 163 train_loss 1.5942 train_acc 0.4500 val_acc 0.3333 \n",
      "epoch 164 train_loss 1.5936 train_acc 0.4500 val_acc 0.3333 \n",
      "epoch 165 train_loss 1.5934 train_acc 0.4444 val_acc 0.3333 \n",
      "epoch 166 train_loss 1.5929 train_acc 0.4500 val_acc 0.3333 \n",
      "epoch 167 train_loss 1.5922 train_acc 0.4500 val_acc 0.3333 \n",
      "epoch 168 train_loss 1.5922 train_acc 0.4500 val_acc 0.3333 \n",
      "epoch 169 train_loss 1.5923 train_acc 0.4500 val_acc 0.3333 \n",
      "epoch 170 train_loss 1.5910 train_acc 0.4500 val_acc 0.3333 \n",
      "epoch 171 train_loss 1.5910 train_acc 0.4500 val_acc 0.3333 \n",
      "epoch 172 train_loss 1.5907 train_acc 0.4500 val_acc 0.3333 \n",
      "epoch 173 train_loss 1.5905 train_acc 0.4500 val_acc 0.3333 \n",
      "epoch 174 train_loss 1.5900 train_acc 0.4500 val_acc 0.3333 \n",
      "epoch 175 train_loss 1.5907 train_acc 0.4500 val_acc 0.3333 \n",
      "epoch 176 train_loss 1.5895 train_acc 0.4500 val_acc 0.3333 \n",
      "epoch 177 train_loss 1.5899 train_acc 0.4500 val_acc 0.3333 \n",
      "epoch 178 train_loss 1.5886 train_acc 0.4500 val_acc 0.3333 \n",
      "epoch 179 train_loss 1.5889 train_acc 0.4500 val_acc 0.3333 \n",
      "epoch 180 train_loss 1.5876 train_acc 0.4556 val_acc 0.3333 \n",
      "epoch 181 train_loss 1.5887 train_acc 0.4556 val_acc 0.3333 \n",
      "epoch 182 train_loss 1.5870 train_acc 0.4556 val_acc 0.3333 \n",
      "epoch 183 train_loss 1.5870 train_acc 0.4556 val_acc 0.3333 \n",
      "epoch 184 train_loss 1.5862 train_acc 0.4556 val_acc 0.3417 \n",
      "epoch 185 train_loss 1.5861 train_acc 0.4556 val_acc 0.3333 \n",
      "epoch 186 train_loss 1.5847 train_acc 0.4556 val_acc 0.3333 \n",
      "epoch 187 train_loss 1.5864 train_acc 0.4556 val_acc 0.3333 \n",
      "epoch 188 train_loss 1.5840 train_acc 0.4611 val_acc 0.3333 \n",
      "epoch 189 train_loss 1.5846 train_acc 0.4556 val_acc 0.3417 \n",
      "epoch 190 train_loss 1.5831 train_acc 0.4611 val_acc 0.3333 \n",
      "epoch 191 train_loss 1.5835 train_acc 0.4611 val_acc 0.3417 \n",
      "epoch 192 train_loss 1.5821 train_acc 0.4611 val_acc 0.3333 \n",
      "epoch 193 train_loss 1.5820 train_acc 0.4611 val_acc 0.3333 \n",
      "epoch 194 train_loss 1.5805 train_acc 0.4611 val_acc 0.3417 \n",
      "epoch 195 train_loss 1.5819 train_acc 0.4611 val_acc 0.3417 \n",
      "epoch 196 train_loss 1.5789 train_acc 0.4667 val_acc 0.3417 \n",
      "epoch 197 train_loss 1.5804 train_acc 0.4667 val_acc 0.3500 \n",
      "epoch 198 train_loss 1.5780 train_acc 0.4667 val_acc 0.3417 \n",
      "epoch 199 train_loss 1.5789 train_acc 0.4667 val_acc 0.3500 \n",
      "epoch 200 train_loss 1.5779 train_acc 0.4667 val_acc 0.3500 \n",
      "test_acc 0.3133\n"
     ]
    }
   ],
   "source": [
    "best=0\n",
    "for epoch in tqdm(range(200)):\n",
    "    loss_all = train(model, train_loader)\n",
    "    train_acc = eval(model, train_loader)\n",
    "    val_acc = eval(model, val_loader)\n",
    "    if val_acc >= best:\n",
    "        best = val_acc\n",
    "        torch.save(model.state_dict(), osp.join(save_path, \"result.pk\"))\n",
    "    \n",
    "    tqdm.write(\"epoch {:03d} \".format(epoch+1) + \n",
    "              \"train_loss {:.4f} \".format(loss_all) +\n",
    "              \"train_acc {:.4f} \".format(train_acc) +\n",
    "              \"val_acc {:.4f} \".format(val_acc))\n",
    "test_acc = eval(model, test_loader, testing=True, save_path=save_path)\n",
    "print(\"test_acc {:.4f}\".format(test_acc))"
   ]
  },
  {
   "cell_type": "code",
   "execution_count": null,
   "metadata": {},
   "outputs": [],
   "source": [
    "epoch 200 train_loss 1.3260 train_acc 0.4943 val_acc 0.2759 \n",
    "test_acc 0.3487"
   ]
  },
  {
   "cell_type": "markdown",
   "metadata": {},
   "source": [
    "## Robustness certificate"
   ]
  },
  {
   "cell_type": "code",
   "execution_count": 16,
   "metadata": {},
   "outputs": [
    {
     "data": {
      "application/vnd.jupyter.widget-view+json": {
       "model_id": "329e97307673432594fcf7a942e77930",
       "version_major": 2,
       "version_minor": 0
      },
      "text/plain": [
       "across graphs:   0%|          | 0/152 [00:00<?, ?it/s]"
      ]
     },
     "metadata": {},
     "output_type": "display_data"
    },
    {
     "data": {
      "application/vnd.jupyter.widget-view+json": {
       "model_id": "",
       "version_major": 2,
       "version_minor": 0
      },
      "text/plain": [
       "across labels:   0%|          | 0/6 [00:00<?, ?it/s]"
      ]
     },
     "metadata": {},
     "output_type": "display_data"
    },
    {
     "data": {
      "application/vnd.jupyter.widget-view+json": {
       "model_id": "",
       "version_major": 2,
       "version_minor": 0
      },
      "text/plain": [
       "across labels:   0%|          | 0/6 [00:00<?, ?it/s]"
      ]
     },
     "metadata": {},
     "output_type": "display_data"
    },
    {
     "data": {
      "application/vnd.jupyter.widget-view+json": {
       "model_id": "",
       "version_major": 2,
       "version_minor": 0
      },
      "text/plain": [
       "across labels:   0%|          | 0/6 [00:00<?, ?it/s]"
      ]
     },
     "metadata": {},
     "output_type": "display_data"
    },
    {
     "data": {
      "application/vnd.jupyter.widget-view+json": {
       "model_id": "",
       "version_major": 2,
       "version_minor": 0
      },
      "text/plain": [
       "across labels:   0%|          | 0/6 [00:00<?, ?it/s]"
      ]
     },
     "metadata": {},
     "output_type": "display_data"
    },
    {
     "data": {
      "application/vnd.jupyter.widget-view+json": {
       "model_id": "",
       "version_major": 2,
       "version_minor": 0
      },
      "text/plain": [
       "across labels:   0%|          | 0/6 [00:00<?, ?it/s]"
      ]
     },
     "metadata": {},
     "output_type": "display_data"
    },
    {
     "data": {
      "application/vnd.jupyter.widget-view+json": {
       "model_id": "",
       "version_major": 2,
       "version_minor": 0
      },
      "text/plain": [
       "across labels:   0%|          | 0/6 [00:00<?, ?it/s]"
      ]
     },
     "metadata": {},
     "output_type": "display_data"
    },
    {
     "data": {
      "application/vnd.jupyter.widget-view+json": {
       "model_id": "",
       "version_major": 2,
       "version_minor": 0
      },
      "text/plain": [
       "across labels:   0%|          | 0/6 [00:00<?, ?it/s]"
      ]
     },
     "metadata": {},
     "output_type": "display_data"
    },
    {
     "data": {
      "application/vnd.jupyter.widget-view+json": {
       "model_id": "",
       "version_major": 2,
       "version_minor": 0
      },
      "text/plain": [
       "across labels:   0%|          | 0/6 [00:00<?, ?it/s]"
      ]
     },
     "metadata": {},
     "output_type": "display_data"
    },
    {
     "data": {
      "application/vnd.jupyter.widget-view+json": {
       "model_id": "",
       "version_major": 2,
       "version_minor": 0
      },
      "text/plain": [
       "across labels:   0%|          | 0/6 [00:00<?, ?it/s]"
      ]
     },
     "metadata": {},
     "output_type": "display_data"
    },
    {
     "data": {
      "application/vnd.jupyter.widget-view+json": {
       "model_id": "",
       "version_major": 2,
       "version_minor": 0
      },
      "text/plain": [
       "across labels:   0%|          | 0/6 [00:00<?, ?it/s]"
      ]
     },
     "metadata": {},
     "output_type": "display_data"
    },
    {
     "data": {
      "application/vnd.jupyter.widget-view+json": {
       "model_id": "",
       "version_major": 2,
       "version_minor": 0
      },
      "text/plain": [
       "across labels:   0%|          | 0/6 [00:00<?, ?it/s]"
      ]
     },
     "metadata": {},
     "output_type": "display_data"
    },
    {
     "data": {
      "application/vnd.jupyter.widget-view+json": {
       "model_id": "",
       "version_major": 2,
       "version_minor": 0
      },
      "text/plain": [
       "across labels:   0%|          | 0/6 [00:00<?, ?it/s]"
      ]
     },
     "metadata": {},
     "output_type": "display_data"
    },
    {
     "data": {
      "application/vnd.jupyter.widget-view+json": {
       "model_id": "",
       "version_major": 2,
       "version_minor": 0
      },
      "text/plain": [
       "across labels:   0%|          | 0/6 [00:00<?, ?it/s]"
      ]
     },
     "metadata": {},
     "output_type": "display_data"
    },
    {
     "data": {
      "application/vnd.jupyter.widget-view+json": {
       "model_id": "",
       "version_major": 2,
       "version_minor": 0
      },
      "text/plain": [
       "across labels:   0%|          | 0/6 [00:00<?, ?it/s]"
      ]
     },
     "metadata": {},
     "output_type": "display_data"
    },
    {
     "data": {
      "application/vnd.jupyter.widget-view+json": {
       "model_id": "",
       "version_major": 2,
       "version_minor": 0
      },
      "text/plain": [
       "across labels:   0%|          | 0/6 [00:00<?, ?it/s]"
      ]
     },
     "metadata": {},
     "output_type": "display_data"
    },
    {
     "data": {
      "application/vnd.jupyter.widget-view+json": {
       "model_id": "",
       "version_major": 2,
       "version_minor": 0
      },
      "text/plain": [
       "across labels:   0%|          | 0/6 [00:00<?, ?it/s]"
      ]
     },
     "metadata": {},
     "output_type": "display_data"
    },
    {
     "data": {
      "application/vnd.jupyter.widget-view+json": {
       "model_id": "",
       "version_major": 2,
       "version_minor": 0
      },
      "text/plain": [
       "across labels:   0%|          | 0/6 [00:00<?, ?it/s]"
      ]
     },
     "metadata": {},
     "output_type": "display_data"
    },
    {
     "data": {
      "application/vnd.jupyter.widget-view+json": {
       "model_id": "",
       "version_major": 2,
       "version_minor": 0
      },
      "text/plain": [
       "across labels:   0%|          | 0/6 [00:00<?, ?it/s]"
      ]
     },
     "metadata": {},
     "output_type": "display_data"
    },
    {
     "data": {
      "application/vnd.jupyter.widget-view+json": {
       "model_id": "",
       "version_major": 2,
       "version_minor": 0
      },
      "text/plain": [
       "across labels:   0%|          | 0/6 [00:00<?, ?it/s]"
      ]
     },
     "metadata": {},
     "output_type": "display_data"
    },
    {
     "data": {
      "application/vnd.jupyter.widget-view+json": {
       "model_id": "",
       "version_major": 2,
       "version_minor": 0
      },
      "text/plain": [
       "across labels:   0%|          | 0/6 [00:00<?, ?it/s]"
      ]
     },
     "metadata": {},
     "output_type": "display_data"
    },
    {
     "data": {
      "application/vnd.jupyter.widget-view+json": {
       "model_id": "",
       "version_major": 2,
       "version_minor": 0
      },
      "text/plain": [
       "across labels:   0%|          | 0/6 [00:00<?, ?it/s]"
      ]
     },
     "metadata": {},
     "output_type": "display_data"
    },
    {
     "data": {
      "application/vnd.jupyter.widget-view+json": {
       "model_id": "",
       "version_major": 2,
       "version_minor": 0
      },
      "text/plain": [
       "across labels:   0%|          | 0/6 [00:00<?, ?it/s]"
      ]
     },
     "metadata": {},
     "output_type": "display_data"
    },
    {
     "data": {
      "application/vnd.jupyter.widget-view+json": {
       "model_id": "",
       "version_major": 2,
       "version_minor": 0
      },
      "text/plain": [
       "across labels:   0%|          | 0/6 [00:00<?, ?it/s]"
      ]
     },
     "metadata": {},
     "output_type": "display_data"
    },
    {
     "data": {
      "application/vnd.jupyter.widget-view+json": {
       "model_id": "",
       "version_major": 2,
       "version_minor": 0
      },
      "text/plain": [
       "across labels:   0%|          | 0/6 [00:00<?, ?it/s]"
      ]
     },
     "metadata": {},
     "output_type": "display_data"
    },
    {
     "data": {
      "application/vnd.jupyter.widget-view+json": {
       "model_id": "",
       "version_major": 2,
       "version_minor": 0
      },
      "text/plain": [
       "across labels:   0%|          | 0/6 [00:00<?, ?it/s]"
      ]
     },
     "metadata": {},
     "output_type": "display_data"
    },
    {
     "data": {
      "application/vnd.jupyter.widget-view+json": {
       "model_id": "",
       "version_major": 2,
       "version_minor": 0
      },
      "text/plain": [
       "across labels:   0%|          | 0/6 [00:00<?, ?it/s]"
      ]
     },
     "metadata": {},
     "output_type": "display_data"
    },
    {
     "data": {
      "application/vnd.jupyter.widget-view+json": {
       "model_id": "",
       "version_major": 2,
       "version_minor": 0
      },
      "text/plain": [
       "across labels:   0%|          | 0/6 [00:00<?, ?it/s]"
      ]
     },
     "metadata": {},
     "output_type": "display_data"
    },
    {
     "data": {
      "application/vnd.jupyter.widget-view+json": {
       "model_id": "",
       "version_major": 2,
       "version_minor": 0
      },
      "text/plain": [
       "across labels:   0%|          | 0/6 [00:00<?, ?it/s]"
      ]
     },
     "metadata": {},
     "output_type": "display_data"
    },
    {
     "data": {
      "application/vnd.jupyter.widget-view+json": {
       "model_id": "",
       "version_major": 2,
       "version_minor": 0
      },
      "text/plain": [
       "across labels:   0%|          | 0/6 [00:00<?, ?it/s]"
      ]
     },
     "metadata": {},
     "output_type": "display_data"
    },
    {
     "data": {
      "application/vnd.jupyter.widget-view+json": {
       "model_id": "",
       "version_major": 2,
       "version_minor": 0
      },
      "text/plain": [
       "across labels:   0%|          | 0/6 [00:00<?, ?it/s]"
      ]
     },
     "metadata": {},
     "output_type": "display_data"
    },
    {
     "data": {
      "application/vnd.jupyter.widget-view+json": {
       "model_id": "",
       "version_major": 2,
       "version_minor": 0
      },
      "text/plain": [
       "across labels:   0%|          | 0/6 [00:00<?, ?it/s]"
      ]
     },
     "metadata": {},
     "output_type": "display_data"
    },
    {
     "data": {
      "application/vnd.jupyter.widget-view+json": {
       "model_id": "",
       "version_major": 2,
       "version_minor": 0
      },
      "text/plain": [
       "across labels:   0%|          | 0/6 [00:00<?, ?it/s]"
      ]
     },
     "metadata": {},
     "output_type": "display_data"
    },
    {
     "data": {
      "application/vnd.jupyter.widget-view+json": {
       "model_id": "",
       "version_major": 2,
       "version_minor": 0
      },
      "text/plain": [
       "across labels:   0%|          | 0/6 [00:00<?, ?it/s]"
      ]
     },
     "metadata": {},
     "output_type": "display_data"
    },
    {
     "data": {
      "application/vnd.jupyter.widget-view+json": {
       "model_id": "",
       "version_major": 2,
       "version_minor": 0
      },
      "text/plain": [
       "across labels:   0%|          | 0/6 [00:00<?, ?it/s]"
      ]
     },
     "metadata": {},
     "output_type": "display_data"
    },
    {
     "data": {
      "application/vnd.jupyter.widget-view+json": {
       "model_id": "",
       "version_major": 2,
       "version_minor": 0
      },
      "text/plain": [
       "across labels:   0%|          | 0/6 [00:00<?, ?it/s]"
      ]
     },
     "metadata": {},
     "output_type": "display_data"
    },
    {
     "data": {
      "application/vnd.jupyter.widget-view+json": {
       "model_id": "",
       "version_major": 2,
       "version_minor": 0
      },
      "text/plain": [
       "across labels:   0%|          | 0/6 [00:00<?, ?it/s]"
      ]
     },
     "metadata": {},
     "output_type": "display_data"
    },
    {
     "data": {
      "application/vnd.jupyter.widget-view+json": {
       "model_id": "",
       "version_major": 2,
       "version_minor": 0
      },
      "text/plain": [
       "across labels:   0%|          | 0/6 [00:00<?, ?it/s]"
      ]
     },
     "metadata": {},
     "output_type": "display_data"
    },
    {
     "data": {
      "application/vnd.jupyter.widget-view+json": {
       "model_id": "",
       "version_major": 2,
       "version_minor": 0
      },
      "text/plain": [
       "across labels:   0%|          | 0/6 [00:00<?, ?it/s]"
      ]
     },
     "metadata": {},
     "output_type": "display_data"
    },
    {
     "data": {
      "application/vnd.jupyter.widget-view+json": {
       "model_id": "",
       "version_major": 2,
       "version_minor": 0
      },
      "text/plain": [
       "across labels:   0%|          | 0/6 [00:00<?, ?it/s]"
      ]
     },
     "metadata": {},
     "output_type": "display_data"
    },
    {
     "data": {
      "application/vnd.jupyter.widget-view+json": {
       "model_id": "",
       "version_major": 2,
       "version_minor": 0
      },
      "text/plain": [
       "across labels:   0%|          | 0/6 [00:00<?, ?it/s]"
      ]
     },
     "metadata": {},
     "output_type": "display_data"
    },
    {
     "data": {
      "application/vnd.jupyter.widget-view+json": {
       "model_id": "",
       "version_major": 2,
       "version_minor": 0
      },
      "text/plain": [
       "across labels:   0%|          | 0/6 [00:00<?, ?it/s]"
      ]
     },
     "metadata": {},
     "output_type": "display_data"
    },
    {
     "data": {
      "application/vnd.jupyter.widget-view+json": {
       "model_id": "",
       "version_major": 2,
       "version_minor": 0
      },
      "text/plain": [
       "across labels:   0%|          | 0/6 [00:00<?, ?it/s]"
      ]
     },
     "metadata": {},
     "output_type": "display_data"
    },
    {
     "data": {
      "application/vnd.jupyter.widget-view+json": {
       "model_id": "",
       "version_major": 2,
       "version_minor": 0
      },
      "text/plain": [
       "across labels:   0%|          | 0/6 [00:00<?, ?it/s]"
      ]
     },
     "metadata": {},
     "output_type": "display_data"
    },
    {
     "data": {
      "application/vnd.jupyter.widget-view+json": {
       "model_id": "",
       "version_major": 2,
       "version_minor": 0
      },
      "text/plain": [
       "across labels:   0%|          | 0/6 [00:00<?, ?it/s]"
      ]
     },
     "metadata": {},
     "output_type": "display_data"
    },
    {
     "data": {
      "application/vnd.jupyter.widget-view+json": {
       "model_id": "",
       "version_major": 2,
       "version_minor": 0
      },
      "text/plain": [
       "across labels:   0%|          | 0/6 [00:00<?, ?it/s]"
      ]
     },
     "metadata": {},
     "output_type": "display_data"
    },
    {
     "data": {
      "application/vnd.jupyter.widget-view+json": {
       "model_id": "",
       "version_major": 2,
       "version_minor": 0
      },
      "text/plain": [
       "across labels:   0%|          | 0/6 [00:00<?, ?it/s]"
      ]
     },
     "metadata": {},
     "output_type": "display_data"
    },
    {
     "data": {
      "application/vnd.jupyter.widget-view+json": {
       "model_id": "",
       "version_major": 2,
       "version_minor": 0
      },
      "text/plain": [
       "across labels:   0%|          | 0/6 [00:00<?, ?it/s]"
      ]
     },
     "metadata": {},
     "output_type": "display_data"
    },
    {
     "data": {
      "application/vnd.jupyter.widget-view+json": {
       "model_id": "",
       "version_major": 2,
       "version_minor": 0
      },
      "text/plain": [
       "across labels:   0%|          | 0/6 [00:00<?, ?it/s]"
      ]
     },
     "metadata": {},
     "output_type": "display_data"
    },
    {
     "data": {
      "application/vnd.jupyter.widget-view+json": {
       "model_id": "",
       "version_major": 2,
       "version_minor": 0
      },
      "text/plain": [
       "across labels:   0%|          | 0/6 [00:00<?, ?it/s]"
      ]
     },
     "metadata": {},
     "output_type": "display_data"
    },
    {
     "data": {
      "application/vnd.jupyter.widget-view+json": {
       "model_id": "",
       "version_major": 2,
       "version_minor": 0
      },
      "text/plain": [
       "across labels:   0%|          | 0/6 [00:00<?, ?it/s]"
      ]
     },
     "metadata": {},
     "output_type": "display_data"
    },
    {
     "data": {
      "application/vnd.jupyter.widget-view+json": {
       "model_id": "",
       "version_major": 2,
       "version_minor": 0
      },
      "text/plain": [
       "across labels:   0%|          | 0/6 [00:00<?, ?it/s]"
      ]
     },
     "metadata": {},
     "output_type": "display_data"
    },
    {
     "data": {
      "application/vnd.jupyter.widget-view+json": {
       "model_id": "",
       "version_major": 2,
       "version_minor": 0
      },
      "text/plain": [
       "across labels:   0%|          | 0/6 [00:00<?, ?it/s]"
      ]
     },
     "metadata": {},
     "output_type": "display_data"
    },
    {
     "data": {
      "application/vnd.jupyter.widget-view+json": {
       "model_id": "",
       "version_major": 2,
       "version_minor": 0
      },
      "text/plain": [
       "across labels:   0%|          | 0/6 [00:00<?, ?it/s]"
      ]
     },
     "metadata": {},
     "output_type": "display_data"
    }
   ],
   "source": [
    "W = model.conv.weight.detach().cpu().numpy().astype(np.float64)\n",
    "U = model.lin.weight.detach().cpu().numpy().astype(np.float64)\n",
    "\n",
    "k = dataset.num_classes\n",
    "\n",
    "# counter of certifiably robust and vulnerable \n",
    "robust_dual = 0\n",
    "robust_cvx_DL = 0\n",
    "robust_cvx_SL = 0\n",
    "vul_admm_g = 0\n",
    "vul_greedy = 0\n",
    "\n",
    "# counter of correct classification\n",
    "correct = 0\n",
    "\n",
    "# attacker settings\n",
    "strength = 2\n",
    "delta_g = 5\n",
    "\n",
    "# setting for solvers\n",
    "dual_params = dict(iter=100, verbose=0, nonsmooth_init='random')\n",
    "cvx_params = dict(iter=400, lr=0.3, verbose=0, constr='1+2+3', \n",
    "                 activation='relu', algo='swapping', nonsmooth_init='subgrad')\n",
    "admm_params = dict(iter=200, mu=1)\n",
    "\n",
    "for data in tqdm(test_dataset, desc='across graphs'):\n",
    "    A, X, y = process_data(data)\n",
    "    deg = A.sum(1)\n",
    "    n_nodes = A.shape[0]\n",
    "    n_edges = np.count_nonzero(A) // 2\n",
    "    \n",
    "    delta_l = np.minimum(np.maximum(deg - np.max(deg) + strength, 0), n_nodes - 1).astype(int)\n",
    "    # delta_g\n",
    "    \n",
    "    logits = cal_logits(A, X@W, U, act='relu')\n",
    "    c_pred = logits.argmax()\n",
    "    \n",
    "    if c_pred != y:\n",
    "        continue\n",
    "    correct += 1\n",
    "    fc_vals_orig = [0] * k\n",
    "    fc_vals_dual = [0] * k\n",
    "    fc_vals_cvx_DL = [0] * k\n",
    "    fc_vals_cvx_SL = [0] * k\n",
    "    fc_vals_admm = [0] * k\n",
    "    fc_vals_admm_g = [0] * k\n",
    "    fc_vals_greedy = [0] * k\n",
    "    \n",
    "    \n",
    "    for c in tqdm(range(k), desc='across labels', leave=False):\n",
    "        if c == y:\n",
    "            continue\n",
    "        u = U[y] - U[c]\n",
    "        XW = X@W\n",
    "        \n",
    "        # fc_val_orig\n",
    "        fc_vals_orig[c] = calculate_Fc(A, XW, u / n_nodes, activation='relu')\n",
    "        \n",
    "        # fc_val_dual\n",
    "        cvx_relax = ConvexRelaxation(A, XW, u / n_nodes, delta_l, delta_g, 'relu', 'envelop', 'doubleL')\n",
    "        dual_sol = dual_solver_doubleL(A, cvx_relax.Q, cvx_relax.p, \n",
    "                                       delta_l=delta_l, delta_g=delta_g, **dual_params)\n",
    "        fc_vals_dual[c] = dual_sol['opt_f']\n",
    "        \n",
    "        # fc_val_cvx_DL\n",
    "        cvx_env_params = dict(iter=100, lr=1, verbose=0, constr='1+2+3', nonsmooth_init='subgrad',\n",
    "                                  activation='relu', algo='swapping', relu_bound='doubleL')\n",
    "        cvx_env_doubleL_sol = cvx_env_solver(A, XW, u / n_nodes, delta_l, delta_g, **cvx_env_params)\n",
    "        fc_vals_cvx_DL[c] = cvx_env_doubleL_sol['opt_f']\n",
    "        \n",
    "        # fc_val_cvx_SL\n",
    "        cvx_env_params = dict(iter=100, lr=1, verbose=0, constr='1+2+3', nonsmooth_init='subgrad',\n",
    "                                  activation='relu', algo='swapping', relu_bound='singleL')\n",
    "        cvx_env_singleL_sol = cvx_env_solver(A, XW, u / n_nodes, delta_l, delta_g, **cvx_env_params)\n",
    "        fc_vals_cvx_SL[c] = cvx_env_singleL_sol['opt_f']\n",
    "        \n",
    "        # fc_val_admm\n",
    "        Q, p = cvx_relax.doubleL_ub_coefficient()\n",
    "        admm_params['init_B'] = dual_sol['opt_A'].copy()\n",
    "        admm_sol = admm_solver_doubleL(A, Q, p, delta_l, delta_g, **admm_params)\n",
    "        fc_vals_admm[c] = admm_sol['opt_f']\n",
    "        \n",
    "        # fc_val_admm_g: admm + greedy\n",
    "        admm_g_attack = Greedy_Attack(A, XW, u / n_nodes, delta_l=delta_l, delta_g=delta_g, activation='relu')\n",
    "        if np.array_equal(admm_sol['opt_A'], admm_sol['opt_A'].T):\n",
    "            admm_A = admm_sol['opt_A']\n",
    "        else:\n",
    "            admm_A = np.minimum(admm_sol['opt_A'], admm_sol['opt_A'].T)\n",
    "        admm_g_sol = admm_g_attack.attack(admm_A)  # init from A\n",
    "        fc_vals_admm_g[c] = admm_g_sol['opt_f']\n",
    "        \n",
    "        # fc_val_greedy\n",
    "        attack = Greedy_Attack(A, XW, u / n_nodes, delta_l=delta_l, delta_g=delta_g, activation='relu')\n",
    "        greedy_sol = attack.attack(A)  # init from A\n",
    "        fc_vals_greedy[c] = greedy_sol['opt_f']\n",
    "    \n",
    "    if np.min(fc_vals_dual) >= 0:\n",
    "        robust_dual += 1\n",
    "    if np.min(fc_vals_cvx_DL) >= 0:\n",
    "        robust_cvx_DL += 1\n",
    "    if np.min(fc_vals_cvx_SL) >= 0:\n",
    "        robust_cvx_SL += 1\n",
    "    if np.min(fc_vals_admm_g) < 0:\n",
    "        vul_admm_g += 1\n",
    "    if np.min(fc_vals_greedy) < 0:\n",
    "        vul_greedy += 1"
   ]
  },
  {
   "cell_type": "code",
   "execution_count": 17,
   "metadata": {},
   "outputs": [
    {
     "name": "stdout",
     "output_type": "stream",
     "text": [
      "dataset ENZYMES strength 02 delta_g 05 dual 0.962 cvx_DL 0.962 cvx_SL 0.962 admm_g 0.019 greedy 0.019\n"
     ]
    }
   ],
   "source": [
    "print('dataset {}'.format(ds_name),\n",
    "      'strength {:02d}'.format(strength),\n",
    "      'delta_g {:02d}'.format(delta_g),\n",
    "      'dual {:.3f}'.format(robust_dual / correct),\n",
    "      'cvx_DL {:.3f}'.format(robust_cvx_DL / correct),\n",
    "      'cvx_SL {:.3f}'.format(robust_cvx_SL / correct),\n",
    "      'admm_g {:.3f}'.format(vul_admm_g / correct),\n",
    "      'greedy {:.3f}'.format(vul_greedy / correct),\n",
    "      )"
   ]
  },
  {
   "cell_type": "markdown",
   "metadata": {},
   "source": [
    "## Warm start from adversarial sample by greedy method"
   ]
  },
  {
   "cell_type": "code",
   "execution_count": 18,
   "metadata": {},
   "outputs": [
    {
     "data": {
      "application/vnd.jupyter.widget-view+json": {
       "model_id": "795c294783014ea2812c1ffd743ee988",
       "version_major": 2,
       "version_minor": 0
      },
      "text/plain": [
       "adverarial examples: 0it [00:00, ?it/s]"
      ]
     },
     "metadata": {},
     "output_type": "display_data"
    }
   ],
   "source": [
    "strength = 3\n",
    "for idx, data in tqdm(enumerate(train_dataset), desc='adverarial examples'):\n",
    "    A, X, y = process_data(data)\n",
    "    deg = A.sum(1)\n",
    "    n_nodes = A.shape[0]\n",
    "    delta_l = np.minimum(np.maximum(deg - np.max(deg) + strength, 0), n_nodes - 1).astype(int)\n",
    "    delta_g = n_nodes * np.max(delta_l)\n",
    "    logits = cal_logits(A, X@W, U, act='relu')\n",
    "    c_pred = logits.argmax()\n",
    "    \n",
    "    fc_vals_greedy = [0] * k\n",
    "    fc_A_greedy = [A] * k\n",
    "    for c in range(k):\n",
    "        u = U[y] - U[c]\n",
    "        XW = X@W\n",
    "        ''' greedy attack '''\n",
    "        attack = Greedy_Attack(A, XW, u / n_nodes, delta_l=delta_l, delta_g=delta_g)\n",
    "        greedy_sol = attack.attack(A)  # init from A\n",
    "        fc_vals_greedy[c] = greedy_sol['opt_f']\n",
    "        fc_A_greedy[c] = greedy_sol['opt_A']\n",
    "    pick_idx = np.argmin(fc_vals_greedy)\n",
    "    train_dataset[idx].edge_index = torch.tensor(fc_A_greedy[pick_idx].nonzero())\n",
    "torch.save(train_dataset, osp.join(save_path, 'adv_set.pk'))"
   ]
  },
  {
   "cell_type": "markdown",
   "metadata": {},
   "source": [
    "## Robust ReLU model"
   ]
  },
  {
   "cell_type": "code",
   "execution_count": 19,
   "metadata": {},
   "outputs": [
    {
     "name": "stderr",
     "output_type": "stream",
     "text": [
      "/home/kendra/miniconda3/envs/robograph2/lib/python3.10/site-packages/torch_geometric/deprecation.py:26: UserWarning: 'data.DataLoader' is deprecated, use 'loader.DataLoader' instead\n",
      "  warnings.warn(out)\n"
     ]
    },
    {
     "data": {
      "application/vnd.jupyter.widget-view+json": {
       "model_id": "a482878054544589804422e161da97ea",
       "version_major": 2,
       "version_minor": 0
      },
      "text/plain": [
       "epoch:   0%|          | 0/200 [00:00<?, ?it/s]"
      ]
     },
     "metadata": {},
     "output_type": "display_data"
    },
    {
     "name": "stdout",
     "output_type": "stream",
     "text": [
      "test_acc 0.3224\n"
     ]
    }
   ],
   "source": [
    "model = GC_NET(hidden=64,\n",
    "               n_features=dataset.num_features,\n",
    "               n_classes=dataset.num_classes,\n",
    "               act='relu',\n",
    "               pool='avg',\n",
    "               dropout=0.).to(device)\n",
    "adv = torch.load(osp.join(save_path, 'adv_set.pk'))\n",
    "adv_loader = DataLoader(adv + train_dataset, batch_size=20)\n",
    "\n",
    "best = 0\n",
    "for epoch in tqdm(range(200), desc='epoch'):\n",
    "    loss_all =  train(model, train_loader, robust=True, adv_loader=adv_loader, lamb=0.5)\n",
    "    train_acc = eval(model, train_loader, robust=True)\n",
    "    val_acc = eval(model, val_loader, robust=True)\n",
    "    \n",
    "    if val_acc >= best:\n",
    "        best = val_acc\n",
    "        torch.save(model.state_dict(), osp.join(save_path, 'result_robust.pk'))\n",
    "    #     tqdm.write(\"epoch {:03d} \".format(epoch+1) + \n",
    "    #               \"train_loss {:.4f} \".format(loss_all) +\n",
    "    #               \"train_acc {:.4f} \".format(train_acc) +\n",
    "    #               \"val_acc {:.4f} \".format(val_acc))\n",
    "\n",
    "test_acc = eval(model, test_loader, testing=True, save_path=save_path, robust=True)\n",
    "print(\"test_acc {:.4f}\".format(test_acc))"
   ]
  },
  {
   "cell_type": "markdown",
   "metadata": {},
   "source": [
    "## Robustness certificate with robust model"
   ]
  },
  {
   "cell_type": "code",
   "execution_count": 20,
   "metadata": {},
   "outputs": [
    {
     "data": {
      "application/vnd.jupyter.widget-view+json": {
       "model_id": "f269cfe9a408450b9bb157bb16c1399b",
       "version_major": 2,
       "version_minor": 0
      },
      "text/plain": [
       "across graphs:   0%|          | 0/152 [00:00<?, ?it/s]"
      ]
     },
     "metadata": {},
     "output_type": "display_data"
    },
    {
     "data": {
      "application/vnd.jupyter.widget-view+json": {
       "model_id": "",
       "version_major": 2,
       "version_minor": 0
      },
      "text/plain": [
       "across labels:   0%|          | 0/6 [00:00<?, ?it/s]"
      ]
     },
     "metadata": {},
     "output_type": "display_data"
    },
    {
     "data": {
      "application/vnd.jupyter.widget-view+json": {
       "model_id": "",
       "version_major": 2,
       "version_minor": 0
      },
      "text/plain": [
       "across labels:   0%|          | 0/6 [00:00<?, ?it/s]"
      ]
     },
     "metadata": {},
     "output_type": "display_data"
    },
    {
     "data": {
      "application/vnd.jupyter.widget-view+json": {
       "model_id": "",
       "version_major": 2,
       "version_minor": 0
      },
      "text/plain": [
       "across labels:   0%|          | 0/6 [00:00<?, ?it/s]"
      ]
     },
     "metadata": {},
     "output_type": "display_data"
    },
    {
     "data": {
      "application/vnd.jupyter.widget-view+json": {
       "model_id": "",
       "version_major": 2,
       "version_minor": 0
      },
      "text/plain": [
       "across labels:   0%|          | 0/6 [00:00<?, ?it/s]"
      ]
     },
     "metadata": {},
     "output_type": "display_data"
    },
    {
     "data": {
      "application/vnd.jupyter.widget-view+json": {
       "model_id": "",
       "version_major": 2,
       "version_minor": 0
      },
      "text/plain": [
       "across labels:   0%|          | 0/6 [00:00<?, ?it/s]"
      ]
     },
     "metadata": {},
     "output_type": "display_data"
    },
    {
     "data": {
      "application/vnd.jupyter.widget-view+json": {
       "model_id": "",
       "version_major": 2,
       "version_minor": 0
      },
      "text/plain": [
       "across labels:   0%|          | 0/6 [00:00<?, ?it/s]"
      ]
     },
     "metadata": {},
     "output_type": "display_data"
    },
    {
     "data": {
      "application/vnd.jupyter.widget-view+json": {
       "model_id": "",
       "version_major": 2,
       "version_minor": 0
      },
      "text/plain": [
       "across labels:   0%|          | 0/6 [00:00<?, ?it/s]"
      ]
     },
     "metadata": {},
     "output_type": "display_data"
    },
    {
     "data": {
      "application/vnd.jupyter.widget-view+json": {
       "model_id": "",
       "version_major": 2,
       "version_minor": 0
      },
      "text/plain": [
       "across labels:   0%|          | 0/6 [00:00<?, ?it/s]"
      ]
     },
     "metadata": {},
     "output_type": "display_data"
    },
    {
     "data": {
      "application/vnd.jupyter.widget-view+json": {
       "model_id": "",
       "version_major": 2,
       "version_minor": 0
      },
      "text/plain": [
       "across labels:   0%|          | 0/6 [00:00<?, ?it/s]"
      ]
     },
     "metadata": {},
     "output_type": "display_data"
    },
    {
     "data": {
      "application/vnd.jupyter.widget-view+json": {
       "model_id": "",
       "version_major": 2,
       "version_minor": 0
      },
      "text/plain": [
       "across labels:   0%|          | 0/6 [00:00<?, ?it/s]"
      ]
     },
     "metadata": {},
     "output_type": "display_data"
    },
    {
     "data": {
      "application/vnd.jupyter.widget-view+json": {
       "model_id": "",
       "version_major": 2,
       "version_minor": 0
      },
      "text/plain": [
       "across labels:   0%|          | 0/6 [00:00<?, ?it/s]"
      ]
     },
     "metadata": {},
     "output_type": "display_data"
    },
    {
     "data": {
      "application/vnd.jupyter.widget-view+json": {
       "model_id": "",
       "version_major": 2,
       "version_minor": 0
      },
      "text/plain": [
       "across labels:   0%|          | 0/6 [00:00<?, ?it/s]"
      ]
     },
     "metadata": {},
     "output_type": "display_data"
    },
    {
     "data": {
      "application/vnd.jupyter.widget-view+json": {
       "model_id": "",
       "version_major": 2,
       "version_minor": 0
      },
      "text/plain": [
       "across labels:   0%|          | 0/6 [00:00<?, ?it/s]"
      ]
     },
     "metadata": {},
     "output_type": "display_data"
    },
    {
     "data": {
      "application/vnd.jupyter.widget-view+json": {
       "model_id": "",
       "version_major": 2,
       "version_minor": 0
      },
      "text/plain": [
       "across labels:   0%|          | 0/6 [00:00<?, ?it/s]"
      ]
     },
     "metadata": {},
     "output_type": "display_data"
    },
    {
     "data": {
      "application/vnd.jupyter.widget-view+json": {
       "model_id": "",
       "version_major": 2,
       "version_minor": 0
      },
      "text/plain": [
       "across labels:   0%|          | 0/6 [00:00<?, ?it/s]"
      ]
     },
     "metadata": {},
     "output_type": "display_data"
    },
    {
     "data": {
      "application/vnd.jupyter.widget-view+json": {
       "model_id": "",
       "version_major": 2,
       "version_minor": 0
      },
      "text/plain": [
       "across labels:   0%|          | 0/6 [00:00<?, ?it/s]"
      ]
     },
     "metadata": {},
     "output_type": "display_data"
    },
    {
     "data": {
      "application/vnd.jupyter.widget-view+json": {
       "model_id": "",
       "version_major": 2,
       "version_minor": 0
      },
      "text/plain": [
       "across labels:   0%|          | 0/6 [00:00<?, ?it/s]"
      ]
     },
     "metadata": {},
     "output_type": "display_data"
    },
    {
     "data": {
      "application/vnd.jupyter.widget-view+json": {
       "model_id": "",
       "version_major": 2,
       "version_minor": 0
      },
      "text/plain": [
       "across labels:   0%|          | 0/6 [00:00<?, ?it/s]"
      ]
     },
     "metadata": {},
     "output_type": "display_data"
    },
    {
     "data": {
      "application/vnd.jupyter.widget-view+json": {
       "model_id": "",
       "version_major": 2,
       "version_minor": 0
      },
      "text/plain": [
       "across labels:   0%|          | 0/6 [00:00<?, ?it/s]"
      ]
     },
     "metadata": {},
     "output_type": "display_data"
    },
    {
     "data": {
      "application/vnd.jupyter.widget-view+json": {
       "model_id": "",
       "version_major": 2,
       "version_minor": 0
      },
      "text/plain": [
       "across labels:   0%|          | 0/6 [00:00<?, ?it/s]"
      ]
     },
     "metadata": {},
     "output_type": "display_data"
    },
    {
     "data": {
      "application/vnd.jupyter.widget-view+json": {
       "model_id": "",
       "version_major": 2,
       "version_minor": 0
      },
      "text/plain": [
       "across labels:   0%|          | 0/6 [00:00<?, ?it/s]"
      ]
     },
     "metadata": {},
     "output_type": "display_data"
    },
    {
     "data": {
      "application/vnd.jupyter.widget-view+json": {
       "model_id": "",
       "version_major": 2,
       "version_minor": 0
      },
      "text/plain": [
       "across labels:   0%|          | 0/6 [00:00<?, ?it/s]"
      ]
     },
     "metadata": {},
     "output_type": "display_data"
    },
    {
     "data": {
      "application/vnd.jupyter.widget-view+json": {
       "model_id": "",
       "version_major": 2,
       "version_minor": 0
      },
      "text/plain": [
       "across labels:   0%|          | 0/6 [00:00<?, ?it/s]"
      ]
     },
     "metadata": {},
     "output_type": "display_data"
    },
    {
     "data": {
      "application/vnd.jupyter.widget-view+json": {
       "model_id": "",
       "version_major": 2,
       "version_minor": 0
      },
      "text/plain": [
       "across labels:   0%|          | 0/6 [00:00<?, ?it/s]"
      ]
     },
     "metadata": {},
     "output_type": "display_data"
    },
    {
     "data": {
      "application/vnd.jupyter.widget-view+json": {
       "model_id": "",
       "version_major": 2,
       "version_minor": 0
      },
      "text/plain": [
       "across labels:   0%|          | 0/6 [00:00<?, ?it/s]"
      ]
     },
     "metadata": {},
     "output_type": "display_data"
    },
    {
     "data": {
      "application/vnd.jupyter.widget-view+json": {
       "model_id": "",
       "version_major": 2,
       "version_minor": 0
      },
      "text/plain": [
       "across labels:   0%|          | 0/6 [00:00<?, ?it/s]"
      ]
     },
     "metadata": {},
     "output_type": "display_data"
    },
    {
     "data": {
      "application/vnd.jupyter.widget-view+json": {
       "model_id": "",
       "version_major": 2,
       "version_minor": 0
      },
      "text/plain": [
       "across labels:   0%|          | 0/6 [00:00<?, ?it/s]"
      ]
     },
     "metadata": {},
     "output_type": "display_data"
    },
    {
     "data": {
      "application/vnd.jupyter.widget-view+json": {
       "model_id": "",
       "version_major": 2,
       "version_minor": 0
      },
      "text/plain": [
       "across labels:   0%|          | 0/6 [00:00<?, ?it/s]"
      ]
     },
     "metadata": {},
     "output_type": "display_data"
    },
    {
     "data": {
      "application/vnd.jupyter.widget-view+json": {
       "model_id": "",
       "version_major": 2,
       "version_minor": 0
      },
      "text/plain": [
       "across labels:   0%|          | 0/6 [00:00<?, ?it/s]"
      ]
     },
     "metadata": {},
     "output_type": "display_data"
    },
    {
     "data": {
      "application/vnd.jupyter.widget-view+json": {
       "model_id": "",
       "version_major": 2,
       "version_minor": 0
      },
      "text/plain": [
       "across labels:   0%|          | 0/6 [00:00<?, ?it/s]"
      ]
     },
     "metadata": {},
     "output_type": "display_data"
    },
    {
     "data": {
      "application/vnd.jupyter.widget-view+json": {
       "model_id": "",
       "version_major": 2,
       "version_minor": 0
      },
      "text/plain": [
       "across labels:   0%|          | 0/6 [00:00<?, ?it/s]"
      ]
     },
     "metadata": {},
     "output_type": "display_data"
    },
    {
     "data": {
      "application/vnd.jupyter.widget-view+json": {
       "model_id": "",
       "version_major": 2,
       "version_minor": 0
      },
      "text/plain": [
       "across labels:   0%|          | 0/6 [00:00<?, ?it/s]"
      ]
     },
     "metadata": {},
     "output_type": "display_data"
    },
    {
     "data": {
      "application/vnd.jupyter.widget-view+json": {
       "model_id": "",
       "version_major": 2,
       "version_minor": 0
      },
      "text/plain": [
       "across labels:   0%|          | 0/6 [00:00<?, ?it/s]"
      ]
     },
     "metadata": {},
     "output_type": "display_data"
    },
    {
     "data": {
      "application/vnd.jupyter.widget-view+json": {
       "model_id": "",
       "version_major": 2,
       "version_minor": 0
      },
      "text/plain": [
       "across labels:   0%|          | 0/6 [00:00<?, ?it/s]"
      ]
     },
     "metadata": {},
     "output_type": "display_data"
    },
    {
     "data": {
      "application/vnd.jupyter.widget-view+json": {
       "model_id": "",
       "version_major": 2,
       "version_minor": 0
      },
      "text/plain": [
       "across labels:   0%|          | 0/6 [00:00<?, ?it/s]"
      ]
     },
     "metadata": {},
     "output_type": "display_data"
    },
    {
     "data": {
      "application/vnd.jupyter.widget-view+json": {
       "model_id": "",
       "version_major": 2,
       "version_minor": 0
      },
      "text/plain": [
       "across labels:   0%|          | 0/6 [00:00<?, ?it/s]"
      ]
     },
     "metadata": {},
     "output_type": "display_data"
    },
    {
     "data": {
      "application/vnd.jupyter.widget-view+json": {
       "model_id": "",
       "version_major": 2,
       "version_minor": 0
      },
      "text/plain": [
       "across labels:   0%|          | 0/6 [00:00<?, ?it/s]"
      ]
     },
     "metadata": {},
     "output_type": "display_data"
    },
    {
     "data": {
      "application/vnd.jupyter.widget-view+json": {
       "model_id": "",
       "version_major": 2,
       "version_minor": 0
      },
      "text/plain": [
       "across labels:   0%|          | 0/6 [00:00<?, ?it/s]"
      ]
     },
     "metadata": {},
     "output_type": "display_data"
    },
    {
     "data": {
      "application/vnd.jupyter.widget-view+json": {
       "model_id": "",
       "version_major": 2,
       "version_minor": 0
      },
      "text/plain": [
       "across labels:   0%|          | 0/6 [00:00<?, ?it/s]"
      ]
     },
     "metadata": {},
     "output_type": "display_data"
    },
    {
     "data": {
      "application/vnd.jupyter.widget-view+json": {
       "model_id": "",
       "version_major": 2,
       "version_minor": 0
      },
      "text/plain": [
       "across labels:   0%|          | 0/6 [00:00<?, ?it/s]"
      ]
     },
     "metadata": {},
     "output_type": "display_data"
    },
    {
     "data": {
      "application/vnd.jupyter.widget-view+json": {
       "model_id": "",
       "version_major": 2,
       "version_minor": 0
      },
      "text/plain": [
       "across labels:   0%|          | 0/6 [00:00<?, ?it/s]"
      ]
     },
     "metadata": {},
     "output_type": "display_data"
    },
    {
     "data": {
      "application/vnd.jupyter.widget-view+json": {
       "model_id": "",
       "version_major": 2,
       "version_minor": 0
      },
      "text/plain": [
       "across labels:   0%|          | 0/6 [00:00<?, ?it/s]"
      ]
     },
     "metadata": {},
     "output_type": "display_data"
    },
    {
     "data": {
      "application/vnd.jupyter.widget-view+json": {
       "model_id": "",
       "version_major": 2,
       "version_minor": 0
      },
      "text/plain": [
       "across labels:   0%|          | 0/6 [00:00<?, ?it/s]"
      ]
     },
     "metadata": {},
     "output_type": "display_data"
    },
    {
     "data": {
      "application/vnd.jupyter.widget-view+json": {
       "model_id": "",
       "version_major": 2,
       "version_minor": 0
      },
      "text/plain": [
       "across labels:   0%|          | 0/6 [00:00<?, ?it/s]"
      ]
     },
     "metadata": {},
     "output_type": "display_data"
    },
    {
     "data": {
      "application/vnd.jupyter.widget-view+json": {
       "model_id": "",
       "version_major": 2,
       "version_minor": 0
      },
      "text/plain": [
       "across labels:   0%|          | 0/6 [00:00<?, ?it/s]"
      ]
     },
     "metadata": {},
     "output_type": "display_data"
    },
    {
     "data": {
      "application/vnd.jupyter.widget-view+json": {
       "model_id": "",
       "version_major": 2,
       "version_minor": 0
      },
      "text/plain": [
       "across labels:   0%|          | 0/6 [00:00<?, ?it/s]"
      ]
     },
     "metadata": {},
     "output_type": "display_data"
    },
    {
     "data": {
      "application/vnd.jupyter.widget-view+json": {
       "model_id": "",
       "version_major": 2,
       "version_minor": 0
      },
      "text/plain": [
       "across labels:   0%|          | 0/6 [00:00<?, ?it/s]"
      ]
     },
     "metadata": {},
     "output_type": "display_data"
    },
    {
     "data": {
      "application/vnd.jupyter.widget-view+json": {
       "model_id": "",
       "version_major": 2,
       "version_minor": 0
      },
      "text/plain": [
       "across labels:   0%|          | 0/6 [00:00<?, ?it/s]"
      ]
     },
     "metadata": {},
     "output_type": "display_data"
    },
    {
     "data": {
      "application/vnd.jupyter.widget-view+json": {
       "model_id": "",
       "version_major": 2,
       "version_minor": 0
      },
      "text/plain": [
       "across labels:   0%|          | 0/6 [00:00<?, ?it/s]"
      ]
     },
     "metadata": {},
     "output_type": "display_data"
    }
   ],
   "source": [
    "W = model.conv.weight.detach().cpu().numpy().astype(np.float64)\n",
    "U = model.lin.weight.detach().cpu().numpy().astype(np.float64)\n",
    "\n",
    "k = dataset.num_classes\n",
    "\n",
    "# counter of certifiably robust and vulnerable \n",
    "robust_dual = 0\n",
    "robust_cvx_DL = 0\n",
    "robust_cvx_SL = 0\n",
    "vul_admm_g = 0\n",
    "vul_greedy = 0\n",
    "\n",
    "# counter of correct classification\n",
    "correct = 0\n",
    "\n",
    "# attacker settings\n",
    "strength = 3\n",
    "delta_g = 10\n",
    "\n",
    "# setting for solvers\n",
    "dual_params = dict(iter=100, verbose=0, nonsmooth_init='random')\n",
    "cvx_params = dict(iter=400, lr=0.3, verbose=0, constr='1+2+3', \n",
    "                 activation='relu', algo='swapping', nonsmooth_init='subgrad')\n",
    "admm_params = dict(iter=200, mu=1)\n",
    "\n",
    "for data in tqdm(test_dataset, desc='across graphs'):\n",
    "    A, X, y = process_data(data)\n",
    "    deg = A.sum(1)\n",
    "    n_nodes = A.shape[0]\n",
    "    n_edges = np.count_nonzero(A) // 2\n",
    "    \n",
    "    delta_l = np.minimum(np.maximum(deg - np.max(deg) + strength, 0), n_nodes - 1).astype(int)\n",
    "    # delta_g\n",
    "    \n",
    "    logits = cal_logits(A, X@W, U, act='relu')\n",
    "    c_pred = logits.argmax()\n",
    "    \n",
    "    if c_pred != y:\n",
    "        continue\n",
    "    correct += 1\n",
    "    fc_vals_orig = [0] * k\n",
    "    fc_vals_dual = [0] * k\n",
    "    fc_vals_cvx_DL = [0] * k\n",
    "    fc_vals_cvx_SL = [0] * k\n",
    "    fc_vals_admm = [0] * k\n",
    "    fc_vals_admm_g = [0] * k\n",
    "    fc_vals_greedy = [0] * k\n",
    "    \n",
    "    \n",
    "    for c in tqdm(range(k), desc='across labels', leave=False):\n",
    "        if c == y:\n",
    "            continue\n",
    "        u = U[y] - U[c]\n",
    "        XW = X@W\n",
    "        \n",
    "        # fc_val_orig\n",
    "        fc_vals_orig[c] = calculate_Fc(A, XW, u / n_nodes, activation='relu')\n",
    "        \n",
    "        # fc_val_dual\n",
    "        cvx_relax = ConvexRelaxation(A, XW, u / n_nodes, delta_l, delta_g, 'relu', 'envelop', 'doubleL')\n",
    "        dual_sol = dual_solver_doubleL(A, cvx_relax.Q, cvx_relax.p, \n",
    "                                       delta_l=delta_l, delta_g=delta_g, **dual_params)\n",
    "        fc_vals_dual[c] = dual_sol['opt_f']\n",
    "        \n",
    "        # fc_val_cvx_DL\n",
    "        cvx_env_params = dict(iter=100, lr=1, verbose=0, constr='1+2+3', nonsmooth_init='subgrad',\n",
    "                                  activation='relu', algo='swapping', relu_bound='doubleL')\n",
    "        cvx_env_doubleL_sol = cvx_env_solver(A, XW, u / n_nodes, delta_l, delta_g, **cvx_env_params)\n",
    "        fc_vals_cvx_DL[c] = cvx_env_doubleL_sol['opt_f']\n",
    "        \n",
    "        # fc_val_cvx_SL\n",
    "        cvx_env_params = dict(iter=100, lr=1, verbose=0, constr='1+2+3', nonsmooth_init='subgrad',\n",
    "                                  activation='relu', algo='swapping', relu_bound='singleL')\n",
    "        cvx_env_singleL_sol = cvx_env_solver(A, XW, u / n_nodes, delta_l, delta_g, **cvx_env_params)\n",
    "        fc_vals_cvx_SL[c] = cvx_env_singleL_sol['opt_f']\n",
    "        \n",
    "        # fc_val_admm\n",
    "        Q, p = cvx_relax.doubleL_ub_coefficient()\n",
    "        admm_params['init_B'] = dual_sol['opt_A'].copy()\n",
    "        admm_sol = admm_solver_doubleL(A, Q, p, delta_l, delta_g, **admm_params)\n",
    "        fc_vals_admm[c] = admm_sol['opt_f']\n",
    "        \n",
    "        # fc_val_admm_g: admm + greedy\n",
    "        admm_g_attack = Greedy_Attack(A, XW, u / n_nodes, delta_l=delta_l, delta_g=delta_g, activation='relu')\n",
    "        if np.array_equal(admm_sol['opt_A'], admm_sol['opt_A'].T):\n",
    "            admm_A = admm_sol['opt_A']\n",
    "        else:\n",
    "            admm_A = np.minimum(admm_sol['opt_A'], admm_sol['opt_A'].T)\n",
    "        admm_g_sol = admm_g_attack.attack(admm_A)  # init from A\n",
    "        fc_vals_admm_g[c] = admm_g_sol['opt_f']\n",
    "        \n",
    "        # fc_val_greedy\n",
    "        attack = Greedy_Attack(A, XW, u / n_nodes, delta_l=delta_l, delta_g=delta_g, activation='relu')\n",
    "        greedy_sol = attack.attack(A)  # init from A\n",
    "        fc_vals_greedy[c] = greedy_sol['opt_f']\n",
    "    \n",
    "    if np.min(fc_vals_dual) >= 0:\n",
    "        robust_dual += 1\n",
    "    if np.min(fc_vals_cvx_DL) >= 0:\n",
    "        robust_cvx_DL += 1\n",
    "    if np.min(fc_vals_cvx_SL) >= 0:\n",
    "        robust_cvx_SL += 1\n",
    "    if np.min(fc_vals_admm_g) < 0:\n",
    "        vul_admm_g += 1\n",
    "    if np.min(fc_vals_greedy) < 0:\n",
    "        vul_greedy += 1"
   ]
  },
  {
   "cell_type": "code",
   "execution_count": 21,
   "metadata": {},
   "outputs": [
    {
     "name": "stdout",
     "output_type": "stream",
     "text": [
      "dataset ENZYMES strength 03 delta_g 10 dual 0.735 cvx_DL 0.735 cvx_SL 0.755 admm_g 0.163 greedy 0.163\n"
     ]
    }
   ],
   "source": [
    "print('dataset {}'.format(ds_name),\n",
    "      'strength {:02d}'.format(strength),\n",
    "      'delta_g {:02d}'.format(delta_g),\n",
    "      'dual {:.3f}'.format(robust_dual / correct),\n",
    "      'cvx_DL {:.3f}'.format(robust_cvx_DL / correct),\n",
    "      'cvx_SL {:.3f}'.format(robust_cvx_SL / correct),\n",
    "      'admm_g {:.3f}'.format(vul_admm_g / correct),\n",
    "      'greedy {:.3f}'.format(vul_greedy / correct),\n",
    "      )"
   ]
  },
  {
   "cell_type": "code",
   "execution_count": null,
   "metadata": {},
   "outputs": [],
   "source": [
    " "
   ]
  }
 ],
 "metadata": {
  "kernelspec": {
   "display_name": "Python (robograph2)",
   "language": "python",
   "name": "robograph2"
  },
  "language_info": {
   "codemirror_mode": {
    "name": "ipython",
    "version": 3
   },
   "file_extension": ".py",
   "mimetype": "text/x-python",
   "name": "python",
   "nbconvert_exporter": "python",
   "pygments_lexer": "ipython3",
   "version": "3.10.16"
  }
 },
 "nbformat": 4,
 "nbformat_minor": 4
}
