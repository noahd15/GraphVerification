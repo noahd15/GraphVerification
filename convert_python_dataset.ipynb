{
 "cells": [
  {
   "cell_type": "code",
   "execution_count": 4,
   "id": "4c6ef8e9-c7eb-4465-b29c-77014f4550af",
   "metadata": {},
   "outputs": [],
   "source": [
    "import torch\n",
    "import numpy as np\n",
    "from scipy.io import savemat\n",
    "from torch_geometric.utils import to_dense_adj"
   ]
  },
  {
   "cell_type": "code",
   "execution_count": 5,
   "id": "da7f2182-b501-4ee9-91b6-1b2c6a406b7c",
   "metadata": {},
   "outputs": [],
   "source": [
    "dataset = torch.load('data/dataset_python_node.pt', weights_only=False) "
   ]
  },
  {
   "cell_type": "code",
   "execution_count": 8,
   "id": "cd3cc423-0735-4935-a8ba-035823ca6b48",
   "metadata": {},
   "outputs": [
    {
     "name": "stdout",
     "output_type": "stream",
     "text": [
      "Conversion to .mat complete!\n"
     ]
    }
   ],
   "source": [
    "# # Load dataset\n",
    "# dataset = torch.load('data/dataset_python_node.pt', weights_only=False) \n",
    "\n",
    "# # Parameter: keep only the first n_keep features from each node's feature vector.\n",
    "# # Adjust this value to drop the remaining features.\n",
    "# n_keep = 1  # for example, keep only the first 50 features\n",
    "\n",
    "# # Prepare plain Python lists for each attribute\n",
    "# edge_indices = []\n",
    "# features = []\n",
    "# labels = []\n",
    "\n",
    "# # Iterate through each Data object in the dataset\n",
    "# for data in dataset:\n",
    "#     # Convert to NumPy arrays if needed\n",
    "#     edge_index = data.edge_index.numpy() if isinstance(data.edge_index, torch.Tensor) else data.edge_index\n",
    "#     feature = data.x.numpy() if isinstance(data.x, torch.Tensor) else data.x\n",
    "#     # Optionally drop some features, here keeping only the first n_keep columns\n",
    "#     if feature.shape[1] > n_keep:\n",
    "#         feature = feature[:, :n_keep]\n",
    "        \n",
    "#     edge_index_tensor = torch.tensor(edge_index, dtype=torch.long)\n",
    "#     adj_matrix = to_dense_adj(edge_index_tensor)[0].numpy()\n",
    "#     edge_index = adj_matrix\n",
    "    \n",
    "#     label = data.y.numpy() if isinstance(data.y, torch.Tensor) else data.y\n",
    "#     edge_indices.append(edge_index)\n",
    "#     features.append(feature)\n",
    "#     labels.append(label)\n",
    "\n",
    "# # Manually create object arrays to avoid broadcasting issues\n",
    "# edge_indices_obj = np.empty(len(edge_indices), dtype=object)\n",
    "# features_obj = np.empty(len(features), dtype=object)\n",
    "# labels_obj = np.empty(len(labels), dtype=object)\n",
    "\n",
    "# for i in range(len(edge_indices)):\n",
    "#     edge_indices_obj[i] = edge_indices[i]\n",
    "#     features_obj[i] = features[i]\n",
    "#     labels_obj[i] = labels[i]\n",
    "\n",
    "# # Build the dictionary for saving to .mat\n",
    "# data_dict = {\n",
    "#     'edge_indices': edge_indices_obj,  # MATLAB cell array equivalent\n",
    "#     'features': features_obj,          # Object array of (possibly reduced) feature matrices\n",
    "#     'labels': labels_obj               # Object array of labels\n",
    "# }\n",
    "\n",
    "# # Save to .mat file\n",
    "# savemat('data/node.mat', data_dict)\n",
    "# print(\"Conversion to .mat complete!\")\n"
   ]
  },
  {
   "cell_type": "code",
   "execution_count": 11,
   "id": "26030fcc-b79f-4bcb-a81b-da54ae763a86",
   "metadata": {},
   "outputs": [
    {
     "name": "stdout",
     "output_type": "stream",
     "text": [
      "Conversion to .mat complete!\n"
     ]
    }
   ],
   "source": [
    "# Prepare plain Python lists for each attribute\n",
    "edge_indices = []\n",
    "features = []\n",
    "labels = []\n",
    "\n",
    "# Iterate through each Data object in the dataset\n",
    "for data in dataset:\n",
    "    # Convert to NumPy arrays if needed\n",
    "    edge_index = data.edge_index.numpy() if isinstance(data.edge_index, torch.Tensor) else data.edge_index\n",
    "    feature = data.x.numpy() if isinstance(data.x, torch.Tensor) else data.x\n",
    "    edge_index_tensor = torch.tensor(edge_index, dtype=torch.long)\n",
    "    adj_matrix = to_dense_adj(edge_index_tensor)[0].numpy()\n",
    "    edge_index = adj_matrix\n",
    "    label = data.y.numpy() if isinstance(data.y, torch.Tensor) else data.y\n",
    "\n",
    "    num_nodes = feature.shape[0]\n",
    "\n",
    "    edge_indices.append(edge_index)\n",
    "    features.append(feature)\n",
    "    labels.append(label)\n",
    "\n",
    "# Manually create object arrays to avoid broadcasting issues\n",
    "edge_indices_obj = np.empty(len(edge_indices), dtype=object)\n",
    "features_obj = np.empty(len(features), dtype=object)\n",
    "labels_obj = np.empty(len(labels), dtype=object)\n",
    "\n",
    "for i in range(len(edge_indices)):\n",
    "    edge_indices_obj[i] = edge_indices[i]\n",
    "    features_obj[i] = features[i]\n",
    "    labels_obj[i] = labels[i]\n",
    "\n",
    "# Build the dictionary for saving to .mat\n",
    "data_dict = {\n",
    "    'edge_indices': edge_indices_obj,  # Now an object array (MATLAB cell array)\n",
    "    'features': features_obj,          # Object array of feature matrices\n",
    "    'labels': labels_obj               # Object array of labels\n",
    "}\n",
    "\n",
    "# Save to .mat file\n",
    "savemat('data/node.mat', data_dict)\n",
    "print(\"Conversion to .mat complete!\")"
   ]
  },
  {
   "cell_type": "code",
   "execution_count": null,
   "id": "0fc3367f-dc36-48de-9782-5b86eb78e7d4",
   "metadata": {},
   "outputs": [],
   "source": [
    " "
   ]
  },
  {
   "cell_type": "code",
   "execution_count": null,
   "id": "859d68db-e446-441e-ae22-4774061201ef",
   "metadata": {},
   "outputs": [],
   "source": [
    " "
   ]
  }
 ],
 "metadata": {
  "kernelspec": {
   "display_name": "intel",
   "language": "python",
   "name": "intel"
  },
  "language_info": {
   "codemirror_mode": {
    "name": "ipython",
    "version": 3
   },
   "file_extension": ".py",
   "mimetype": "text/x-python",
   "name": "python",
   "nbconvert_exporter": "python",
   "pygments_lexer": "ipython3",
   "version": "3.12.9"
  }
 },
 "nbformat": 4,
 "nbformat_minor": 5
}
