{
 "cells": [
  {
   "cell_type": "code",
   "execution_count": 1,
   "id": "4c6ef8e9-c7eb-4465-b29c-77014f4550af",
   "metadata": {},
   "outputs": [
    {
     "name": "stdout",
     "output_type": "stream",
     "text": [
      "Intel MKL WARNING: Support of Intel(R) Streaming SIMD Extensions 4.2 (Intel(R) SSE4.2) enabled only processors has been deprecated. Intel oneAPI Math Kernel Library 2025.0 will require Intel(R) Advanced Vector Extensions (Intel(R) AVX) instructions.\n",
      "Intel MKL WARNING: Support of Intel(R) Streaming SIMD Extensions 4.2 (Intel(R) SSE4.2) enabled only processors has been deprecated. Intel oneAPI Math Kernel Library 2025.0 will require Intel(R) Advanced Vector Extensions (Intel(R) AVX) instructions.\n"
     ]
    }
   ],
   "source": [
    "import torch\n",
    "import numpy as np\n",
    "from scipy.io import savemat\n",
    "from torch_geometric.utils import to_dense_adj"
   ]
  },
  {
   "cell_type": "code",
   "execution_count": 2,
   "id": "da7f2182-b501-4ee9-91b6-1b2c6a406b7c",
   "metadata": {},
   "outputs": [],
   "source": [
    "dataset = torch.load('data/dataset_python_node.pt', weights_only=False) "
   ]
  },
  {
   "cell_type": "code",
   "execution_count": 3,
   "id": "cd3cc423-0735-4935-a8ba-035823ca6b48",
   "metadata": {},
   "outputs": [],
   "source": [
    "# # Load dataset\n",
    "# dataset = torch.load('data/dataset_python_node.pt', weights_only=False) \n",
    "\n",
    "# # Parameter: keep only the first n_keep features from each node's feature vector.\n",
    "# # Adjust this value to drop the remaining features.\n",
    "# n_keep = 1  # for example, keep only the first 50 features\n",
    "\n",
    "# # Prepare plain Python lists for each attribute\n",
    "# edge_indices = []\n",
    "# features = []\n",
    "# labels = []\n",
    "\n",
    "# # Iterate through each Data object in the dataset\n",
    "# for data in dataset:\n",
    "#     # Convert to NumPy arrays if needed\n",
    "#     edge_index = data.edge_index.numpy() if isinstance(data.edge_index, torch.Tensor) else data.edge_index\n",
    "#     feature = data.x.numpy() if isinstance(data.x, torch.Tensor) else data.x\n",
    "#     # Optionally drop some features, here keeping only the first n_keep columns\n",
    "#     if feature.shape[1] > n_keep:\n",
    "#         feature = feature[:, :n_keep]\n",
    "        \n",
    "#     edge_index_tensor = torch.tensor(edge_index, dtype=torch.long)\n",
    "#     adj_matrix = to_dense_adj(edge_index_tensor)[0].numpy()\n",
    "#     edge_index = adj_matrix\n",
    "    \n",
    "#     label = data.y.numpy() if isinstance(data.y, torch.Tensor) else data.y\n",
    "#     edge_indices.append(edge_index)\n",
    "#     features.append(feature)\n",
    "#     labels.append(label)\n",
    "\n",
    "# # Manually create object arrays to avoid broadcasting issues\n",
    "# edge_indices_obj = np.empty(len(edge_indices), dtype=object)\n",
    "# features_obj = np.empty(len(features), dtype=object)\n",
    "# labels_obj = np.empty(len(labels), dtype=object)\n",
    "\n",
    "# for i in range(len(edge_indices)):\n",
    "#     edge_indices_obj[i] = edge_indices[i]\n",
    "#     features_obj[i] = features[i]\n",
    "#     labels_obj[i] = labels[i]\n",
    "\n",
    "# # Build the dictionary for saving to .mat\n",
    "# data_dict = {\n",
    "#     'edge_indices': edge_indices_obj,  # MATLAB cell array equivalent\n",
    "#     'features': features_obj,          # Object array of (possibly reduced) feature matrices\n",
    "#     'labels': labels_obj               # Object array of labels\n",
    "# }\n",
    "\n",
    "# # Save to .mat file\n",
    "# savemat('data/node.mat', data_dict)\n",
    "# print(\"Conversion to .mat complete!\")\n"
   ]
  },
  {
   "cell_type": "code",
   "execution_count": 9,
   "id": "26030fcc-b79f-4bcb-a81b-da54ae763a86",
   "metadata": {},
   "outputs": [
    {
     "name": "stdout",
     "output_type": "stream",
     "text": [
      "Conversion to .mat complete!\n"
     ]
    }
   ],
   "source": [
    "import torch\n",
    "import numpy as np\n",
    "from torch_geometric.utils import to_dense_adj\n",
    "from scipy.io import savemat\n",
    "\n",
    "# Prepare lists for each attribute\n",
    "edge_indices = []\n",
    "features = []\n",
    "labels = []\n",
    "\n",
    "# For statistics\n",
    "graph_node_counts = []\n",
    "graph_feature_counts = []\n",
    "graph_edge_counts = []  # list that will store number of edges per graph\n",
    "graph_degrees = []     # list that will store the degree vector for each graph\n",
    "\n",
    "# Iterate through each Data object in the dataset\n",
    "for idx, data in enumerate(dataset):\n",
    "    # Convert edge index and features to NumPy arrays if needed\n",
    "    edge_index = data.edge_index.numpy() if isinstance(data.edge_index, torch.Tensor) else data.edge_index\n",
    "    feature = data.x.numpy() if isinstance(data.x, torch.Tensor) else data.x\n",
    "    \n",
    "    # Print info about the feature matrix\n",
    "    num_nodes, num_features = feature.shape  # number of nodes and features per node\n",
    "    # print(f\"Graph {idx}: feature shape = {feature.shape} (nodes x features)\")\n",
    "    \n",
    "    # Filter: if we want graphs with exactly 18 nodes, then skip otherwise.\n",
    "    if num_nodes != 18:\n",
    "        print(f\"Skipping graph {idx} due to node count != 18 (found {num_nodes})\")\n",
    "        continue\n",
    "\n",
    "    # Convert edge indices to a dense adjacency matrix.\n",
    "    # Force the matrix to be of size 18 x 18 (if needed) by setting max_num_nodes=18.\n",
    "    edge_index_tensor = torch.tensor(edge_index, dtype=torch.long)\n",
    "    # Using max_num_nodes forces output size to be 18x18 even if edge indices don't span all nodes.\n",
    "    adj_matrix = to_dense_adj(edge_index_tensor, max_num_nodes=18)[0].numpy()\n",
    "    \n",
    "    # Print the shape of the adjacency matrix.\n",
    "    # print(f\"Graph {idx}: adjacency matrix shape = {adj_matrix.shape}\")\n",
    "\n",
    "    # Compute the degree of each node in the adjacency matrix.\n",
    "    # (Assuming that the adjacency matrix is binary.)\n",
    "    degrees = np.sum(adj_matrix, axis=1)\n",
    "    total_edges = int(np.sum(degrees) // 2)  # for undirected graphs, each edge appears twice.\n",
    "    # print(f\"Graph {idx}: node degrees = {degrees}\")\n",
    "    # print(f\"Graph {idx}: total number of edges = {total_edges}\")\n",
    "    \n",
    "    # Append the processed data to the lists\n",
    "    edge_indices.append(adj_matrix)\n",
    "    features.append(feature)\n",
    "    label = data.y.numpy() if isinstance(data.y, torch.Tensor) else data.y\n",
    "    labels.append(label)\n",
    "    \n",
    "    # Gather statistics for overall checking later\n",
    "    graph_node_counts.append(num_nodes)\n",
    "    graph_feature_counts.append(num_features)\n",
    "    graph_edge_counts.append(total_edges)\n",
    "    graph_degrees.append(degrees)\n",
    "\n",
    "# After looping through, print summary statistics\n",
    "# print(\"\\nSummary:\")\n",
    "# print(f\"Total number of graphs processed: {len(edge_indices)}\")\n",
    "# print(f\"Node counts (should all be 18): {graph_node_counts}\")\n",
    "# print(f\"Feature dimension per graph (should be consistent): {graph_feature_counts}\")\n",
    "# print(f\"Edge counts per graph: {graph_edge_counts}\")\n",
    "\n",
    "# Manually create object arrays to avoid broadcasting issues in savemat\n",
    "edge_indices_obj = np.empty(len(edge_indices), dtype=object)\n",
    "features_obj = np.empty(len(features), dtype=object)\n",
    "labels_obj = np.empty(len(labels), dtype=object)\n",
    "\n",
    "for i in range(len(edge_indices)):\n",
    "    edge_indices_obj[i] = edge_indices[i]\n",
    "    features_obj[i] = features[i]\n",
    "    labels_obj[i] = labels[i]\n",
    "\n",
    "# Build the dictionary for saving to .mat\n",
    "data_dict = {\n",
    "    'edge_indices': edge_indices_obj,  # MATLAB will see this as a cell array of adjacency matrices\n",
    "    'features': features_obj,          # MATLAB cell array of feature matrices\n",
    "    'labels': labels_obj               # MATLAB cell array of labels\n",
    "}\n",
    "\n",
    "# Save to .mat file\n",
    "savemat('data/node.mat', data_dict)\n",
    "print(\"Conversion to .mat complete!\")\n"
   ]
  },
  {
   "cell_type": "code",
   "execution_count": null,
   "id": "859d68db-e446-441e-ae22-4774061201ef",
   "metadata": {},
   "outputs": [],
   "source": [
    " "
   ]
  }
 ],
 "metadata": {
  "kernelspec": {
   "display_name": "intel",
   "language": "python",
   "name": "python3"
  },
  "language_info": {
   "codemirror_mode": {
    "name": "ipython",
    "version": 3
   },
   "file_extension": ".py",
   "mimetype": "text/x-python",
   "name": "python",
   "nbconvert_exporter": "python",
   "pygments_lexer": "ipython3",
   "version": "3.12.9"
  }
 },
 "nbformat": 4,
 "nbformat_minor": 5
}
